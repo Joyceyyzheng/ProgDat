{
 "cells": [
  {
   "cell_type": "code",
   "execution_count": 12,
   "id": "053ecdbc-3375-4a8d-8ed2-82634aa4bb6b",
   "metadata": {},
   "outputs": [],
   "source": [
    "import pandas as pd\n",
    "import numpy as np"
   ]
  },
  {
   "cell_type": "code",
   "execution_count": 13,
   "id": "72f74ef4-1d10-403d-baeb-6dd8d7019561",
   "metadata": {},
   "outputs": [
    {
     "name": "stderr",
     "output_type": "stream",
     "text": [
      "/var/folders/ld/7dyzlyvx5wd6652g56np5wt40000gn/T/ipykernel_61187/3589606130.py:1: DtypeWarning: Columns (2) have mixed types. Specify dtype option on import or set low_memory=False.\n",
      "  df=pd.read_csv(\"./NYC_Dog_Licensing_Dataset_20241125.csv\")\n"
     ]
    }
   ],
   "source": [
    "df=pd.read_csv(\"./NYC_Dog_Licensing_Dataset_20241125.csv\")"
   ]
  },
  {
   "cell_type": "code",
   "execution_count": 6,
   "id": "64bcf1a5-5252-445e-b1c7-e14991aed291",
   "metadata": {},
   "outputs": [
    {
     "data": {
      "text/html": [
       "<div>\n",
       "<style scoped>\n",
       "    .dataframe tbody tr th:only-of-type {\n",
       "        vertical-align: middle;\n",
       "    }\n",
       "\n",
       "    .dataframe tbody tr th {\n",
       "        vertical-align: top;\n",
       "    }\n",
       "\n",
       "    .dataframe thead th {\n",
       "        text-align: right;\n",
       "    }\n",
       "</style>\n",
       "<table border=\"1\" class=\"dataframe\">\n",
       "  <thead>\n",
       "    <tr style=\"text-align: right;\">\n",
       "      <th></th>\n",
       "      <th>AnimalName</th>\n",
       "      <th>AnimalGender</th>\n",
       "      <th>AnimalBirthYear</th>\n",
       "      <th>BreedName</th>\n",
       "      <th>ZipCode</th>\n",
       "      <th>LicenseIssuedDate</th>\n",
       "      <th>LicenseExpiredDate</th>\n",
       "      <th>Extract Year</th>\n",
       "    </tr>\n",
       "  </thead>\n",
       "  <tbody>\n",
       "    <tr>\n",
       "      <th>0</th>\n",
       "      <td>PAIGE</td>\n",
       "      <td>F</td>\n",
       "      <td>2014</td>\n",
       "      <td>American Pit Bull Mix / Pit Bull Mix</td>\n",
       "      <td>10035.0</td>\n",
       "      <td>09/12/2014</td>\n",
       "      <td>09/12/2017</td>\n",
       "      <td>2016</td>\n",
       "    </tr>\n",
       "    <tr>\n",
       "      <th>1</th>\n",
       "      <td>YOGI</td>\n",
       "      <td>M</td>\n",
       "      <td>2010</td>\n",
       "      <td>Boxer</td>\n",
       "      <td>10465.0</td>\n",
       "      <td>09/12/2014</td>\n",
       "      <td>10/02/2017</td>\n",
       "      <td>2016</td>\n",
       "    </tr>\n",
       "    <tr>\n",
       "      <th>2</th>\n",
       "      <td>ALI</td>\n",
       "      <td>M</td>\n",
       "      <td>2014</td>\n",
       "      <td>Basenji</td>\n",
       "      <td>10013.0</td>\n",
       "      <td>09/12/2014</td>\n",
       "      <td>09/12/2019</td>\n",
       "      <td>2016</td>\n",
       "    </tr>\n",
       "    <tr>\n",
       "      <th>3</th>\n",
       "      <td>QUEEN</td>\n",
       "      <td>F</td>\n",
       "      <td>2013</td>\n",
       "      <td>Akita Crossbreed</td>\n",
       "      <td>10013.0</td>\n",
       "      <td>09/12/2014</td>\n",
       "      <td>09/12/2017</td>\n",
       "      <td>2016</td>\n",
       "    </tr>\n",
       "    <tr>\n",
       "      <th>4</th>\n",
       "      <td>LOLA</td>\n",
       "      <td>F</td>\n",
       "      <td>2009</td>\n",
       "      <td>Maltese</td>\n",
       "      <td>10028.0</td>\n",
       "      <td>09/12/2014</td>\n",
       "      <td>10/09/2017</td>\n",
       "      <td>2016</td>\n",
       "    </tr>\n",
       "    <tr>\n",
       "      <th>...</th>\n",
       "      <td>...</td>\n",
       "      <td>...</td>\n",
       "      <td>...</td>\n",
       "      <td>...</td>\n",
       "      <td>...</td>\n",
       "      <td>...</td>\n",
       "      <td>...</td>\n",
       "      <td>...</td>\n",
       "    </tr>\n",
       "    <tr>\n",
       "      <th>616885</th>\n",
       "      <td>SKYE</td>\n",
       "      <td>F</td>\n",
       "      <td>2016</td>\n",
       "      <td>Great Pyrenees</td>\n",
       "      <td>11218.0</td>\n",
       "      <td>11/01/2023</td>\n",
       "      <td>12/02/2024</td>\n",
       "      <td>2023</td>\n",
       "    </tr>\n",
       "    <tr>\n",
       "      <th>616886</th>\n",
       "      <td>UNKNOWN</td>\n",
       "      <td>F</td>\n",
       "      <td>2023</td>\n",
       "      <td>Shih Tzu Crossbreed</td>\n",
       "      <td>10022.0</td>\n",
       "      <td>11/01/2023</td>\n",
       "      <td>11/01/2024</td>\n",
       "      <td>2023</td>\n",
       "    </tr>\n",
       "    <tr>\n",
       "      <th>616887</th>\n",
       "      <td>MUNYU</td>\n",
       "      <td>M</td>\n",
       "      <td>2009</td>\n",
       "      <td>Poodle, Toy</td>\n",
       "      <td>11355.0</td>\n",
       "      <td>11/01/2023</td>\n",
       "      <td>11/24/2024</td>\n",
       "      <td>2023</td>\n",
       "    </tr>\n",
       "    <tr>\n",
       "      <th>616888</th>\n",
       "      <td>SAINT</td>\n",
       "      <td>M</td>\n",
       "      <td>2021</td>\n",
       "      <td>Unknown</td>\n",
       "      <td>11412.0</td>\n",
       "      <td>11/01/2023</td>\n",
       "      <td>11/01/2024</td>\n",
       "      <td>2023</td>\n",
       "    </tr>\n",
       "    <tr>\n",
       "      <th>616889</th>\n",
       "      <td>BABY</td>\n",
       "      <td>F</td>\n",
       "      <td>2021</td>\n",
       "      <td>Unknown</td>\n",
       "      <td>10473.0</td>\n",
       "      <td>11/01/2023</td>\n",
       "      <td>11/01/2024</td>\n",
       "      <td>2023</td>\n",
       "    </tr>\n",
       "  </tbody>\n",
       "</table>\n",
       "<p>616890 rows × 8 columns</p>\n",
       "</div>"
      ],
      "text/plain": [
       "       AnimalName AnimalGender AnimalBirthYear  \\\n",
       "0           PAIGE            F            2014   \n",
       "1            YOGI            M            2010   \n",
       "2             ALI            M            2014   \n",
       "3           QUEEN            F            2013   \n",
       "4            LOLA            F            2009   \n",
       "...           ...          ...             ...   \n",
       "616885       SKYE            F            2016   \n",
       "616886    UNKNOWN            F            2023   \n",
       "616887      MUNYU            M            2009   \n",
       "616888      SAINT            M            2021   \n",
       "616889       BABY            F            2021   \n",
       "\n",
       "                                   BreedName  ZipCode LicenseIssuedDate  \\\n",
       "0       American Pit Bull Mix / Pit Bull Mix  10035.0        09/12/2014   \n",
       "1                                      Boxer  10465.0        09/12/2014   \n",
       "2                                    Basenji  10013.0        09/12/2014   \n",
       "3                           Akita Crossbreed  10013.0        09/12/2014   \n",
       "4                                    Maltese  10028.0        09/12/2014   \n",
       "...                                      ...      ...               ...   \n",
       "616885                        Great Pyrenees  11218.0        11/01/2023   \n",
       "616886                   Shih Tzu Crossbreed  10022.0        11/01/2023   \n",
       "616887                           Poodle, Toy  11355.0        11/01/2023   \n",
       "616888                               Unknown  11412.0        11/01/2023   \n",
       "616889                               Unknown  10473.0        11/01/2023   \n",
       "\n",
       "       LicenseExpiredDate  Extract Year  \n",
       "0              09/12/2017          2016  \n",
       "1              10/02/2017          2016  \n",
       "2              09/12/2019          2016  \n",
       "3              09/12/2017          2016  \n",
       "4              10/09/2017          2016  \n",
       "...                   ...           ...  \n",
       "616885         12/02/2024          2023  \n",
       "616886         11/01/2024          2023  \n",
       "616887         11/24/2024          2023  \n",
       "616888         11/01/2024          2023  \n",
       "616889         11/01/2024          2023  \n",
       "\n",
       "[616890 rows x 8 columns]"
      ]
     },
     "execution_count": 6,
     "metadata": {},
     "output_type": "execute_result"
    }
   ],
   "source": [
    "df"
   ]
  },
  {
   "cell_type": "code",
   "execution_count": 7,
   "id": "1f798e1a-0715-43a7-af86-63a3591cda10",
   "metadata": {},
   "outputs": [
    {
     "data": {
      "text/plain": [
       "616890"
      ]
     },
     "execution_count": 7,
     "metadata": {},
     "output_type": "execute_result"
    }
   ],
   "source": [
    "len(df)"
   ]
  },
  {
   "cell_type": "markdown",
   "id": "b3d0b0a8-5c00-4150-931e-61c6a31049b6",
   "metadata": {},
   "source": [
    "# start cleaning data"
   ]
  },
  {
   "cell_type": "code",
   "execution_count": 9,
   "id": "9b1012a1-3e95-46ff-aceb-830af7e42b9d",
   "metadata": {},
   "outputs": [],
   "source": [
    "df.dropna(inplace=True)"
   ]
  },
  {
   "cell_type": "code",
   "execution_count": 10,
   "id": "81b6bb9f-7948-4796-8a21-82318d15f10f",
   "metadata": {},
   "outputs": [
    {
     "data": {
      "text/plain": [
       "615392"
      ]
     },
     "execution_count": 10,
     "metadata": {},
     "output_type": "execute_result"
    }
   ],
   "source": [
    "len(df)"
   ]
  },
  {
   "cell_type": "code",
   "execution_count": 17,
   "id": "0ee527f5-7b57-4d33-bab9-4b65e3268031",
   "metadata": {},
   "outputs": [
    {
     "data": {
      "text/html": [
       "<div>\n",
       "<style scoped>\n",
       "    .dataframe tbody tr th:only-of-type {\n",
       "        vertical-align: middle;\n",
       "    }\n",
       "\n",
       "    .dataframe tbody tr th {\n",
       "        vertical-align: top;\n",
       "    }\n",
       "\n",
       "    .dataframe thead th {\n",
       "        text-align: right;\n",
       "    }\n",
       "</style>\n",
       "<table border=\"1\" class=\"dataframe\">\n",
       "  <thead>\n",
       "    <tr style=\"text-align: right;\">\n",
       "      <th></th>\n",
       "      <th>AnimalName</th>\n",
       "      <th>AnimalGender</th>\n",
       "      <th>AnimalBirthYear</th>\n",
       "      <th>BreedName</th>\n",
       "      <th>ZipCode</th>\n",
       "      <th>LicenseIssuedDate</th>\n",
       "      <th>LicenseExpiredDate</th>\n",
       "      <th>Extract Year</th>\n",
       "    </tr>\n",
       "  </thead>\n",
       "  <tbody>\n",
       "    <tr>\n",
       "      <th>960</th>\n",
       "      <td>UNKNOWN</td>\n",
       "      <td>F</td>\n",
       "      <td>2014</td>\n",
       "      <td>Cardigan Welsh Corgi</td>\n",
       "      <td>11226.0</td>\n",
       "      <td>12/12/2014</td>\n",
       "      <td>12/12/2017</td>\n",
       "      <td>2016</td>\n",
       "    </tr>\n",
       "    <tr>\n",
       "      <th>1300</th>\n",
       "      <td>UNKNOWN</td>\n",
       "      <td>M</td>\n",
       "      <td>2013</td>\n",
       "      <td>Poodle, Standard</td>\n",
       "      <td>11214.0</td>\n",
       "      <td>12/23/2014</td>\n",
       "      <td>01/14/2016</td>\n",
       "      <td>2016</td>\n",
       "    </tr>\n",
       "    <tr>\n",
       "      <th>1513</th>\n",
       "      <td>UNKNOWN</td>\n",
       "      <td>F</td>\n",
       "      <td>2013</td>\n",
       "      <td>Jack Russell Terrier</td>\n",
       "      <td>11231.0</td>\n",
       "      <td>01/01/2015</td>\n",
       "      <td>01/01/2016</td>\n",
       "      <td>2016</td>\n",
       "    </tr>\n",
       "    <tr>\n",
       "      <th>1516</th>\n",
       "      <td>UNKNOWN</td>\n",
       "      <td>F</td>\n",
       "      <td>2014</td>\n",
       "      <td>American Pit Bull Mix / Pit Bull Mix</td>\n",
       "      <td>11217.0</td>\n",
       "      <td>01/01/2015</td>\n",
       "      <td>01/01/2016</td>\n",
       "      <td>2016</td>\n",
       "    </tr>\n",
       "    <tr>\n",
       "      <th>1539</th>\n",
       "      <td>UNKNOWN</td>\n",
       "      <td>F</td>\n",
       "      <td>2014</td>\n",
       "      <td>Unknown</td>\n",
       "      <td>11209.0</td>\n",
       "      <td>01/02/2015</td>\n",
       "      <td>01/02/2016</td>\n",
       "      <td>2016</td>\n",
       "    </tr>\n",
       "    <tr>\n",
       "      <th>...</th>\n",
       "      <td>...</td>\n",
       "      <td>...</td>\n",
       "      <td>...</td>\n",
       "      <td>...</td>\n",
       "      <td>...</td>\n",
       "      <td>...</td>\n",
       "      <td>...</td>\n",
       "      <td>...</td>\n",
       "    </tr>\n",
       "    <tr>\n",
       "      <th>616614</th>\n",
       "      <td>UNKNOWN</td>\n",
       "      <td>F</td>\n",
       "      <td>2023</td>\n",
       "      <td>Labrador Retriever Crossbreed</td>\n",
       "      <td>11209.0</td>\n",
       "      <td>10/29/2023</td>\n",
       "      <td>10/29/2024</td>\n",
       "      <td>2023</td>\n",
       "    </tr>\n",
       "    <tr>\n",
       "      <th>616665</th>\n",
       "      <td>UNKNOWN</td>\n",
       "      <td>M</td>\n",
       "      <td>2022</td>\n",
       "      <td>Dachshund</td>\n",
       "      <td>11231.0</td>\n",
       "      <td>10/30/2023</td>\n",
       "      <td>11/23/2024</td>\n",
       "      <td>2023</td>\n",
       "    </tr>\n",
       "    <tr>\n",
       "      <th>616803</th>\n",
       "      <td>UNKNOWN</td>\n",
       "      <td>M</td>\n",
       "      <td>2023</td>\n",
       "      <td>Havanese</td>\n",
       "      <td>10003.0</td>\n",
       "      <td>11/01/2023</td>\n",
       "      <td>11/01/2024</td>\n",
       "      <td>2023</td>\n",
       "    </tr>\n",
       "    <tr>\n",
       "      <th>616872</th>\n",
       "      <td>UNKNOWN</td>\n",
       "      <td>F</td>\n",
       "      <td>2023</td>\n",
       "      <td>Cavalier King Charles Spaniel</td>\n",
       "      <td>10019.0</td>\n",
       "      <td>11/01/2023</td>\n",
       "      <td>10/12/2025</td>\n",
       "      <td>2023</td>\n",
       "    </tr>\n",
       "    <tr>\n",
       "      <th>616886</th>\n",
       "      <td>UNKNOWN</td>\n",
       "      <td>F</td>\n",
       "      <td>2023</td>\n",
       "      <td>Shih Tzu Crossbreed</td>\n",
       "      <td>10022.0</td>\n",
       "      <td>11/01/2023</td>\n",
       "      <td>11/01/2024</td>\n",
       "      <td>2023</td>\n",
       "    </tr>\n",
       "  </tbody>\n",
       "</table>\n",
       "<p>14939 rows × 8 columns</p>\n",
       "</div>"
      ],
      "text/plain": [
       "       AnimalName AnimalGender AnimalBirthYear  \\\n",
       "960       UNKNOWN            F            2014   \n",
       "1300      UNKNOWN            M            2013   \n",
       "1513      UNKNOWN            F            2013   \n",
       "1516      UNKNOWN            F            2014   \n",
       "1539      UNKNOWN            F            2014   \n",
       "...           ...          ...             ...   \n",
       "616614    UNKNOWN            F            2023   \n",
       "616665    UNKNOWN            M            2022   \n",
       "616803    UNKNOWN            M            2023   \n",
       "616872    UNKNOWN            F            2023   \n",
       "616886    UNKNOWN            F            2023   \n",
       "\n",
       "                                   BreedName  ZipCode LicenseIssuedDate  \\\n",
       "960                     Cardigan Welsh Corgi  11226.0        12/12/2014   \n",
       "1300                        Poodle, Standard  11214.0        12/23/2014   \n",
       "1513                    Jack Russell Terrier  11231.0        01/01/2015   \n",
       "1516    American Pit Bull Mix / Pit Bull Mix  11217.0        01/01/2015   \n",
       "1539                                 Unknown  11209.0        01/02/2015   \n",
       "...                                      ...      ...               ...   \n",
       "616614         Labrador Retriever Crossbreed  11209.0        10/29/2023   \n",
       "616665                             Dachshund  11231.0        10/30/2023   \n",
       "616803                              Havanese  10003.0        11/01/2023   \n",
       "616872         Cavalier King Charles Spaniel  10019.0        11/01/2023   \n",
       "616886                   Shih Tzu Crossbreed  10022.0        11/01/2023   \n",
       "\n",
       "       LicenseExpiredDate  Extract Year  \n",
       "960            12/12/2017          2016  \n",
       "1300           01/14/2016          2016  \n",
       "1513           01/01/2016          2016  \n",
       "1516           01/01/2016          2016  \n",
       "1539           01/02/2016          2016  \n",
       "...                   ...           ...  \n",
       "616614         10/29/2024          2023  \n",
       "616665         11/23/2024          2023  \n",
       "616803         11/01/2024          2023  \n",
       "616872         10/12/2025          2023  \n",
       "616886         11/01/2024          2023  \n",
       "\n",
       "[14939 rows x 8 columns]"
      ]
     },
     "execution_count": 17,
     "metadata": {},
     "output_type": "execute_result"
    }
   ],
   "source": [
    "df[df[\"AnimalName\"]==\"UNKNOWN\"]"
   ]
  },
  {
   "cell_type": "code",
   "execution_count": 25,
   "id": "089b306c-d250-4065-8ccf-2dcc4929cb05",
   "metadata": {},
   "outputs": [],
   "source": [
    "#find who doesn't meet the criteria\n",
    "#df[df[\"AnimalName\"].isin([\"UNKNOWN\",\"NAME NOT PROVIDED\",\"NAME\",\"NONE\",\"NOT\",\"UNKNOWED\",\".\"])]\n",
    "#~ means not. tilda??\n",
    "df=df[~df[\"AnimalName\"].isin([\"UNKNOWN\",\"NAME NOT PROVIDED\",\"NAME\",\"NONE\",\"NOT\",\"UNKNOWED\",\".\"])]"
   ]
  },
  {
   "cell_type": "code",
   "execution_count": 27,
   "id": "5c37d7c5-56aa-4dd3-8f4c-2ad35e0e22c9",
   "metadata": {},
   "outputs": [
    {
     "name": "stdout",
     "output_type": "stream",
     "text": [
      "<class 'pandas.core.frame.DataFrame'>\n",
      "Index: 587566 entries, 0 to 616889\n",
      "Data columns (total 8 columns):\n",
      " #   Column              Non-Null Count   Dtype  \n",
      "---  ------              --------------   -----  \n",
      " 0   AnimalName          587566 non-null  object \n",
      " 1   AnimalGender        587566 non-null  object \n",
      " 2   AnimalBirthYear     587566 non-null  object \n",
      " 3   BreedName           587566 non-null  object \n",
      " 4   ZipCode             587566 non-null  float64\n",
      " 5   LicenseIssuedDate   587566 non-null  object \n",
      " 6   LicenseExpiredDate  587566 non-null  object \n",
      " 7   Extract Year        587566 non-null  int64  \n",
      "dtypes: float64(1), int64(1), object(6)\n",
      "memory usage: 40.3+ MB\n"
     ]
    }
   ],
   "source": [
    "df.info()"
   ]
  },
  {
   "cell_type": "markdown",
   "id": "b6823e2b-6dff-4863-b172-abc72edd761c",
   "metadata": {},
   "source": [
    "# cleaning zipcode data"
   ]
  },
  {
   "cell_type": "code",
   "execution_count": 29,
   "id": "3bf9dab8-93d1-4115-9bf0-b0eb10f4eae1",
   "metadata": {},
   "outputs": [
    {
     "name": "stderr",
     "output_type": "stream",
     "text": [
      "/var/folders/ld/7dyzlyvx5wd6652g56np5wt40000gn/T/ipykernel_60661/3748845569.py:1: SettingWithCopyWarning: \n",
      "A value is trying to be set on a copy of a slice from a DataFrame.\n",
      "Try using .loc[row_indexer,col_indexer] = value instead\n",
      "\n",
      "See the caveats in the documentation: https://pandas.pydata.org/pandas-docs/stable/user_guide/indexing.html#returning-a-view-versus-a-copy\n",
      "  df[\"ZipCode\"]=df[\"ZipCode\"].astype(int)\n"
     ]
    }
   ],
   "source": [
    "df[\"ZipCode\"]=df[\"ZipCode\"].astype(int)"
   ]
  },
  {
   "cell_type": "code",
   "execution_count": 30,
   "id": "9dc68eec-6a08-45d4-8a7f-5695aa2dad45",
   "metadata": {},
   "outputs": [
    {
     "name": "stdout",
     "output_type": "stream",
     "text": [
      "<class 'pandas.core.frame.DataFrame'>\n",
      "Index: 587566 entries, 0 to 616889\n",
      "Data columns (total 8 columns):\n",
      " #   Column              Non-Null Count   Dtype \n",
      "---  ------              --------------   ----- \n",
      " 0   AnimalName          587566 non-null  object\n",
      " 1   AnimalGender        587566 non-null  object\n",
      " 2   AnimalBirthYear     587566 non-null  object\n",
      " 3   BreedName           587566 non-null  object\n",
      " 4   ZipCode             587566 non-null  int64 \n",
      " 5   LicenseIssuedDate   587566 non-null  object\n",
      " 6   LicenseExpiredDate  587566 non-null  object\n",
      " 7   Extract Year        587566 non-null  int64 \n",
      "dtypes: int64(2), object(6)\n",
      "memory usage: 40.3+ MB\n"
     ]
    }
   ],
   "source": [
    "df.info()"
   ]
  },
  {
   "cell_type": "markdown",
   "id": "915aad76-090d-42d8-95d2-8680fb4ab837",
   "metadata": {},
   "source": [
    "# check if the animal is born after the license issue date"
   ]
  },
  {
   "cell_type": "code",
   "execution_count": 31,
   "id": "7eba81a8-d976-4837-8644-18e12d280fda",
   "metadata": {},
   "outputs": [
    {
     "data": {
      "text/plain": [
       "0         2014\n",
       "1         2014\n",
       "2         2014\n",
       "3         2014\n",
       "4         2014\n",
       "          ... \n",
       "616884    2023\n",
       "616885    2023\n",
       "616887    2023\n",
       "616888    2023\n",
       "616889    2023\n",
       "Name: LicenseIssuedDate, Length: 587566, dtype: object"
      ]
     },
     "execution_count": 31,
     "metadata": {},
     "output_type": "execute_result"
    }
   ],
   "source": [
    "df[\"LicenseIssuedDate\"].str.slice(6) #just getting the year for the string"
   ]
  },
  {
   "cell_type": "code",
   "execution_count": 34,
   "id": "c98d2a83-b277-452c-850d-c8ef00182a6f",
   "metadata": {},
   "outputs": [
    {
     "data": {
      "text/html": [
       "<div>\n",
       "<style scoped>\n",
       "    .dataframe tbody tr th:only-of-type {\n",
       "        vertical-align: middle;\n",
       "    }\n",
       "\n",
       "    .dataframe tbody tr th {\n",
       "        vertical-align: top;\n",
       "    }\n",
       "\n",
       "    .dataframe thead th {\n",
       "        text-align: right;\n",
       "    }\n",
       "</style>\n",
       "<table border=\"1\" class=\"dataframe\">\n",
       "  <thead>\n",
       "    <tr style=\"text-align: right;\">\n",
       "      <th></th>\n",
       "      <th>AnimalName</th>\n",
       "      <th>AnimalGender</th>\n",
       "      <th>AnimalBirthYear</th>\n",
       "      <th>BreedName</th>\n",
       "      <th>ZipCode</th>\n",
       "      <th>LicenseIssuedDate</th>\n",
       "      <th>LicenseExpiredDate</th>\n",
       "      <th>Extract Year</th>\n",
       "    </tr>\n",
       "  </thead>\n",
       "  <tbody>\n",
       "    <tr>\n",
       "      <th>0</th>\n",
       "      <td>PAIGE</td>\n",
       "      <td>F</td>\n",
       "      <td>2014</td>\n",
       "      <td>American Pit Bull Mix / Pit Bull Mix</td>\n",
       "      <td>10035</td>\n",
       "      <td>09/12/2014</td>\n",
       "      <td>09/12/2017</td>\n",
       "      <td>2016</td>\n",
       "    </tr>\n",
       "    <tr>\n",
       "      <th>2</th>\n",
       "      <td>ALI</td>\n",
       "      <td>M</td>\n",
       "      <td>2014</td>\n",
       "      <td>Basenji</td>\n",
       "      <td>10013</td>\n",
       "      <td>09/12/2014</td>\n",
       "      <td>09/12/2019</td>\n",
       "      <td>2016</td>\n",
       "    </tr>\n",
       "    <tr>\n",
       "      <th>12</th>\n",
       "      <td>LUCY</td>\n",
       "      <td>F</td>\n",
       "      <td>2014</td>\n",
       "      <td>Dachshund Smooth Coat Miniature</td>\n",
       "      <td>11215</td>\n",
       "      <td>09/13/2014</td>\n",
       "      <td>09/13/2019</td>\n",
       "      <td>2016</td>\n",
       "    </tr>\n",
       "    <tr>\n",
       "      <th>13</th>\n",
       "      <td>RICKY</td>\n",
       "      <td>M</td>\n",
       "      <td>2014</td>\n",
       "      <td>German Shepherd Dog</td>\n",
       "      <td>11220</td>\n",
       "      <td>09/13/2014</td>\n",
       "      <td>09/13/2017</td>\n",
       "      <td>2016</td>\n",
       "    </tr>\n",
       "    <tr>\n",
       "      <th>18</th>\n",
       "      <td>AVERY</td>\n",
       "      <td>F</td>\n",
       "      <td>2014</td>\n",
       "      <td>American Pit Bull Terrier/Pit Bull</td>\n",
       "      <td>10002</td>\n",
       "      <td>09/13/2014</td>\n",
       "      <td>09/13/2019</td>\n",
       "      <td>2016</td>\n",
       "    </tr>\n",
       "    <tr>\n",
       "      <th>...</th>\n",
       "      <td>...</td>\n",
       "      <td>...</td>\n",
       "      <td>...</td>\n",
       "      <td>...</td>\n",
       "      <td>...</td>\n",
       "      <td>...</td>\n",
       "      <td>...</td>\n",
       "      <td>...</td>\n",
       "    </tr>\n",
       "    <tr>\n",
       "      <th>616734</th>\n",
       "      <td>CHEDDAR</td>\n",
       "      <td>M</td>\n",
       "      <td>2023</td>\n",
       "      <td>Poodle</td>\n",
       "      <td>11361</td>\n",
       "      <td>10/31/2023</td>\n",
       "      <td>10/31/2024</td>\n",
       "      <td>2023</td>\n",
       "    </tr>\n",
       "    <tr>\n",
       "      <th>616743</th>\n",
       "      <td>TEDDY</td>\n",
       "      <td>M</td>\n",
       "      <td>2023</td>\n",
       "      <td>Poodle Crossbreed</td>\n",
       "      <td>11433</td>\n",
       "      <td>10/31/2023</td>\n",
       "      <td>10/31/2024</td>\n",
       "      <td>2023</td>\n",
       "    </tr>\n",
       "    <tr>\n",
       "      <th>616799</th>\n",
       "      <td>ANGEL</td>\n",
       "      <td>F</td>\n",
       "      <td>2023</td>\n",
       "      <td>Poodle Crossbreed</td>\n",
       "      <td>10467</td>\n",
       "      <td>11/01/2023</td>\n",
       "      <td>11/01/2024</td>\n",
       "      <td>2023</td>\n",
       "    </tr>\n",
       "    <tr>\n",
       "      <th>616809</th>\n",
       "      <td>BELLA</td>\n",
       "      <td>F</td>\n",
       "      <td>2023</td>\n",
       "      <td>Unknown</td>\n",
       "      <td>10455</td>\n",
       "      <td>11/01/2023</td>\n",
       "      <td>11/01/2024</td>\n",
       "      <td>2023</td>\n",
       "    </tr>\n",
       "    <tr>\n",
       "      <th>616813</th>\n",
       "      <td>CHAN</td>\n",
       "      <td>M</td>\n",
       "      <td>2023</td>\n",
       "      <td>Poodle Crossbreed</td>\n",
       "      <td>11220</td>\n",
       "      <td>11/01/2023</td>\n",
       "      <td>11/01/2024</td>\n",
       "      <td>2023</td>\n",
       "    </tr>\n",
       "  </tbody>\n",
       "</table>\n",
       "<p>68269 rows × 8 columns</p>\n",
       "</div>"
      ],
      "text/plain": [
       "       AnimalName AnimalGender AnimalBirthYear  \\\n",
       "0           PAIGE            F            2014   \n",
       "2             ALI            M            2014   \n",
       "12           LUCY            F            2014   \n",
       "13          RICKY            M            2014   \n",
       "18          AVERY            F            2014   \n",
       "...           ...          ...             ...   \n",
       "616734    CHEDDAR            M            2023   \n",
       "616743      TEDDY            M            2023   \n",
       "616799      ANGEL            F            2023   \n",
       "616809      BELLA            F            2023   \n",
       "616813       CHAN            M            2023   \n",
       "\n",
       "                                   BreedName  ZipCode LicenseIssuedDate  \\\n",
       "0       American Pit Bull Mix / Pit Bull Mix    10035        09/12/2014   \n",
       "2                                    Basenji    10013        09/12/2014   \n",
       "12           Dachshund Smooth Coat Miniature    11215        09/13/2014   \n",
       "13                       German Shepherd Dog    11220        09/13/2014   \n",
       "18        American Pit Bull Terrier/Pit Bull    10002        09/13/2014   \n",
       "...                                      ...      ...               ...   \n",
       "616734                                Poodle    11361        10/31/2023   \n",
       "616743                     Poodle Crossbreed    11433        10/31/2023   \n",
       "616799                     Poodle Crossbreed    10467        11/01/2023   \n",
       "616809                               Unknown    10455        11/01/2023   \n",
       "616813                     Poodle Crossbreed    11220        11/01/2023   \n",
       "\n",
       "       LicenseExpiredDate  Extract Year  \n",
       "0              09/12/2017          2016  \n",
       "2              09/12/2019          2016  \n",
       "12             09/13/2019          2016  \n",
       "13             09/13/2017          2016  \n",
       "18             09/13/2019          2016  \n",
       "...                   ...           ...  \n",
       "616734         10/31/2024          2023  \n",
       "616743         10/31/2024          2023  \n",
       "616799         11/01/2024          2023  \n",
       "616809         11/01/2024          2023  \n",
       "616813         11/01/2024          2023  \n",
       "\n",
       "[68269 rows x 8 columns]"
      ]
     },
     "execution_count": 34,
     "metadata": {},
     "output_type": "execute_result"
    }
   ],
   "source": [
    "df[df['AnimalBirthYear'].astype(str) >= df[\"LicenseIssuedDate\"].str.slice(6)]"
   ]
  },
  {
   "cell_type": "code",
   "execution_count": 35,
   "id": "e9eb8bb5-81df-444c-b962-6ba16c2f73aa",
   "metadata": {},
   "outputs": [],
   "source": [
    "df=df[df['AnimalBirthYear'].astype(str) >= df[\"LicenseIssuedDate\"].str.slice(6)]"
   ]
  },
  {
   "cell_type": "code",
   "execution_count": 36,
   "id": "185ad398-1343-4af0-986b-7f281e79f6cb",
   "metadata": {},
   "outputs": [
    {
     "name": "stdout",
     "output_type": "stream",
     "text": [
      "<class 'pandas.core.frame.DataFrame'>\n",
      "Index: 68269 entries, 0 to 616813\n",
      "Data columns (total 8 columns):\n",
      " #   Column              Non-Null Count  Dtype \n",
      "---  ------              --------------  ----- \n",
      " 0   AnimalName          68269 non-null  object\n",
      " 1   AnimalGender        68269 non-null  object\n",
      " 2   AnimalBirthYear     68269 non-null  object\n",
      " 3   BreedName           68269 non-null  object\n",
      " 4   ZipCode             68269 non-null  int64 \n",
      " 5   LicenseIssuedDate   68269 non-null  object\n",
      " 6   LicenseExpiredDate  68269 non-null  object\n",
      " 7   Extract Year        68269 non-null  int64 \n",
      "dtypes: int64(2), object(6)\n",
      "memory usage: 4.7+ MB\n"
     ]
    }
   ],
   "source": [
    "df.info()"
   ]
  },
  {
   "cell_type": "code",
   "execution_count": 38,
   "id": "9aa7343e-9351-4b9b-84f3-7699be5fc037",
   "metadata": {},
   "outputs": [],
   "source": [
    "df=df[df['AnimalBirthYear'] != 'ERROR: #VALUE!']"
   ]
  },
  {
   "cell_type": "code",
   "execution_count": 43,
   "id": "3a6e1d63-0c06-4f8e-87d6-abe2a99308fe",
   "metadata": {},
   "outputs": [],
   "source": [
    "df['DogAge']=2024 - df[\"AnimalBirthYear\"].astype(int)"
   ]
  },
  {
   "cell_type": "code",
   "execution_count": 44,
   "id": "3041738a-cea3-4faf-b0c6-e2311c2c157d",
   "metadata": {
    "scrolled": true
   },
   "outputs": [
    {
     "data": {
      "text/html": [
       "<div>\n",
       "<style scoped>\n",
       "    .dataframe tbody tr th:only-of-type {\n",
       "        vertical-align: middle;\n",
       "    }\n",
       "\n",
       "    .dataframe tbody tr th {\n",
       "        vertical-align: top;\n",
       "    }\n",
       "\n",
       "    .dataframe thead th {\n",
       "        text-align: right;\n",
       "    }\n",
       "</style>\n",
       "<table border=\"1\" class=\"dataframe\">\n",
       "  <thead>\n",
       "    <tr style=\"text-align: right;\">\n",
       "      <th></th>\n",
       "      <th>AnimalName</th>\n",
       "      <th>AnimalGender</th>\n",
       "      <th>AnimalBirthYear</th>\n",
       "      <th>BreedName</th>\n",
       "      <th>ZipCode</th>\n",
       "      <th>LicenseIssuedDate</th>\n",
       "      <th>LicenseExpiredDate</th>\n",
       "      <th>Extract Year</th>\n",
       "      <th>DogAge</th>\n",
       "    </tr>\n",
       "  </thead>\n",
       "  <tbody>\n",
       "    <tr>\n",
       "      <th>0</th>\n",
       "      <td>PAIGE</td>\n",
       "      <td>F</td>\n",
       "      <td>2014</td>\n",
       "      <td>American Pit Bull Mix / Pit Bull Mix</td>\n",
       "      <td>10035</td>\n",
       "      <td>09/12/2014</td>\n",
       "      <td>09/12/2017</td>\n",
       "      <td>2016</td>\n",
       "      <td>10</td>\n",
       "    </tr>\n",
       "    <tr>\n",
       "      <th>2</th>\n",
       "      <td>ALI</td>\n",
       "      <td>M</td>\n",
       "      <td>2014</td>\n",
       "      <td>Basenji</td>\n",
       "      <td>10013</td>\n",
       "      <td>09/12/2014</td>\n",
       "      <td>09/12/2019</td>\n",
       "      <td>2016</td>\n",
       "      <td>10</td>\n",
       "    </tr>\n",
       "    <tr>\n",
       "      <th>12</th>\n",
       "      <td>LUCY</td>\n",
       "      <td>F</td>\n",
       "      <td>2014</td>\n",
       "      <td>Dachshund Smooth Coat Miniature</td>\n",
       "      <td>11215</td>\n",
       "      <td>09/13/2014</td>\n",
       "      <td>09/13/2019</td>\n",
       "      <td>2016</td>\n",
       "      <td>10</td>\n",
       "    </tr>\n",
       "    <tr>\n",
       "      <th>13</th>\n",
       "      <td>RICKY</td>\n",
       "      <td>M</td>\n",
       "      <td>2014</td>\n",
       "      <td>German Shepherd Dog</td>\n",
       "      <td>11220</td>\n",
       "      <td>09/13/2014</td>\n",
       "      <td>09/13/2017</td>\n",
       "      <td>2016</td>\n",
       "      <td>10</td>\n",
       "    </tr>\n",
       "    <tr>\n",
       "      <th>18</th>\n",
       "      <td>AVERY</td>\n",
       "      <td>F</td>\n",
       "      <td>2014</td>\n",
       "      <td>American Pit Bull Terrier/Pit Bull</td>\n",
       "      <td>10002</td>\n",
       "      <td>09/13/2014</td>\n",
       "      <td>09/13/2019</td>\n",
       "      <td>2016</td>\n",
       "      <td>10</td>\n",
       "    </tr>\n",
       "    <tr>\n",
       "      <th>...</th>\n",
       "      <td>...</td>\n",
       "      <td>...</td>\n",
       "      <td>...</td>\n",
       "      <td>...</td>\n",
       "      <td>...</td>\n",
       "      <td>...</td>\n",
       "      <td>...</td>\n",
       "      <td>...</td>\n",
       "      <td>...</td>\n",
       "    </tr>\n",
       "    <tr>\n",
       "      <th>616734</th>\n",
       "      <td>CHEDDAR</td>\n",
       "      <td>M</td>\n",
       "      <td>2023</td>\n",
       "      <td>Poodle</td>\n",
       "      <td>11361</td>\n",
       "      <td>10/31/2023</td>\n",
       "      <td>10/31/2024</td>\n",
       "      <td>2023</td>\n",
       "      <td>1</td>\n",
       "    </tr>\n",
       "    <tr>\n",
       "      <th>616743</th>\n",
       "      <td>TEDDY</td>\n",
       "      <td>M</td>\n",
       "      <td>2023</td>\n",
       "      <td>Poodle Crossbreed</td>\n",
       "      <td>11433</td>\n",
       "      <td>10/31/2023</td>\n",
       "      <td>10/31/2024</td>\n",
       "      <td>2023</td>\n",
       "      <td>1</td>\n",
       "    </tr>\n",
       "    <tr>\n",
       "      <th>616799</th>\n",
       "      <td>ANGEL</td>\n",
       "      <td>F</td>\n",
       "      <td>2023</td>\n",
       "      <td>Poodle Crossbreed</td>\n",
       "      <td>10467</td>\n",
       "      <td>11/01/2023</td>\n",
       "      <td>11/01/2024</td>\n",
       "      <td>2023</td>\n",
       "      <td>1</td>\n",
       "    </tr>\n",
       "    <tr>\n",
       "      <th>616809</th>\n",
       "      <td>BELLA</td>\n",
       "      <td>F</td>\n",
       "      <td>2023</td>\n",
       "      <td>Unknown</td>\n",
       "      <td>10455</td>\n",
       "      <td>11/01/2023</td>\n",
       "      <td>11/01/2024</td>\n",
       "      <td>2023</td>\n",
       "      <td>1</td>\n",
       "    </tr>\n",
       "    <tr>\n",
       "      <th>616813</th>\n",
       "      <td>CHAN</td>\n",
       "      <td>M</td>\n",
       "      <td>2023</td>\n",
       "      <td>Poodle Crossbreed</td>\n",
       "      <td>11220</td>\n",
       "      <td>11/01/2023</td>\n",
       "      <td>11/01/2024</td>\n",
       "      <td>2023</td>\n",
       "      <td>1</td>\n",
       "    </tr>\n",
       "  </tbody>\n",
       "</table>\n",
       "<p>68240 rows × 9 columns</p>\n",
       "</div>"
      ],
      "text/plain": [
       "       AnimalName AnimalGender AnimalBirthYear  \\\n",
       "0           PAIGE            F            2014   \n",
       "2             ALI            M            2014   \n",
       "12           LUCY            F            2014   \n",
       "13          RICKY            M            2014   \n",
       "18          AVERY            F            2014   \n",
       "...           ...          ...             ...   \n",
       "616734    CHEDDAR            M            2023   \n",
       "616743      TEDDY            M            2023   \n",
       "616799      ANGEL            F            2023   \n",
       "616809      BELLA            F            2023   \n",
       "616813       CHAN            M            2023   \n",
       "\n",
       "                                   BreedName  ZipCode LicenseIssuedDate  \\\n",
       "0       American Pit Bull Mix / Pit Bull Mix    10035        09/12/2014   \n",
       "2                                    Basenji    10013        09/12/2014   \n",
       "12           Dachshund Smooth Coat Miniature    11215        09/13/2014   \n",
       "13                       German Shepherd Dog    11220        09/13/2014   \n",
       "18        American Pit Bull Terrier/Pit Bull    10002        09/13/2014   \n",
       "...                                      ...      ...               ...   \n",
       "616734                                Poodle    11361        10/31/2023   \n",
       "616743                     Poodle Crossbreed    11433        10/31/2023   \n",
       "616799                     Poodle Crossbreed    10467        11/01/2023   \n",
       "616809                               Unknown    10455        11/01/2023   \n",
       "616813                     Poodle Crossbreed    11220        11/01/2023   \n",
       "\n",
       "       LicenseExpiredDate  Extract Year  DogAge  \n",
       "0              09/12/2017          2016      10  \n",
       "2              09/12/2019          2016      10  \n",
       "12             09/13/2019          2016      10  \n",
       "13             09/13/2017          2016      10  \n",
       "18             09/13/2019          2016      10  \n",
       "...                   ...           ...     ...  \n",
       "616734         10/31/2024          2023       1  \n",
       "616743         10/31/2024          2023       1  \n",
       "616799         11/01/2024          2023       1  \n",
       "616809         11/01/2024          2023       1  \n",
       "616813         11/01/2024          2023       1  \n",
       "\n",
       "[68240 rows x 9 columns]"
      ]
     },
     "execution_count": 44,
     "metadata": {},
     "output_type": "execute_result"
    }
   ],
   "source": [
    "df"
   ]
  },
  {
   "cell_type": "code",
   "execution_count": 14,
   "id": "bd6ed90c-211d-42ab-92f6-59ed11780988",
   "metadata": {},
   "outputs": [],
   "source": [
    "df['NameLength']= df['AnimalName'].str.len()"
   ]
  },
  {
   "cell_type": "code",
   "execution_count": 15,
   "id": "9eecad3f-64c4-42fa-a252-35f2748aa2ba",
   "metadata": {},
   "outputs": [
    {
     "data": {
      "text/html": [
       "<div>\n",
       "<style scoped>\n",
       "    .dataframe tbody tr th:only-of-type {\n",
       "        vertical-align: middle;\n",
       "    }\n",
       "\n",
       "    .dataframe tbody tr th {\n",
       "        vertical-align: top;\n",
       "    }\n",
       "\n",
       "    .dataframe thead th {\n",
       "        text-align: right;\n",
       "    }\n",
       "</style>\n",
       "<table border=\"1\" class=\"dataframe\">\n",
       "  <thead>\n",
       "    <tr style=\"text-align: right;\">\n",
       "      <th></th>\n",
       "      <th>AnimalName</th>\n",
       "      <th>AnimalGender</th>\n",
       "      <th>AnimalBirthYear</th>\n",
       "      <th>BreedName</th>\n",
       "      <th>ZipCode</th>\n",
       "      <th>LicenseIssuedDate</th>\n",
       "      <th>LicenseExpiredDate</th>\n",
       "      <th>Extract Year</th>\n",
       "      <th>NameLength</th>\n",
       "    </tr>\n",
       "  </thead>\n",
       "  <tbody>\n",
       "    <tr>\n",
       "      <th>0</th>\n",
       "      <td>PAIGE</td>\n",
       "      <td>F</td>\n",
       "      <td>2014</td>\n",
       "      <td>American Pit Bull Mix / Pit Bull Mix</td>\n",
       "      <td>10035.0</td>\n",
       "      <td>09/12/2014</td>\n",
       "      <td>09/12/2017</td>\n",
       "      <td>2016</td>\n",
       "      <td>5.0</td>\n",
       "    </tr>\n",
       "    <tr>\n",
       "      <th>1</th>\n",
       "      <td>YOGI</td>\n",
       "      <td>M</td>\n",
       "      <td>2010</td>\n",
       "      <td>Boxer</td>\n",
       "      <td>10465.0</td>\n",
       "      <td>09/12/2014</td>\n",
       "      <td>10/02/2017</td>\n",
       "      <td>2016</td>\n",
       "      <td>4.0</td>\n",
       "    </tr>\n",
       "    <tr>\n",
       "      <th>2</th>\n",
       "      <td>ALI</td>\n",
       "      <td>M</td>\n",
       "      <td>2014</td>\n",
       "      <td>Basenji</td>\n",
       "      <td>10013.0</td>\n",
       "      <td>09/12/2014</td>\n",
       "      <td>09/12/2019</td>\n",
       "      <td>2016</td>\n",
       "      <td>3.0</td>\n",
       "    </tr>\n",
       "    <tr>\n",
       "      <th>3</th>\n",
       "      <td>QUEEN</td>\n",
       "      <td>F</td>\n",
       "      <td>2013</td>\n",
       "      <td>Akita Crossbreed</td>\n",
       "      <td>10013.0</td>\n",
       "      <td>09/12/2014</td>\n",
       "      <td>09/12/2017</td>\n",
       "      <td>2016</td>\n",
       "      <td>5.0</td>\n",
       "    </tr>\n",
       "    <tr>\n",
       "      <th>4</th>\n",
       "      <td>LOLA</td>\n",
       "      <td>F</td>\n",
       "      <td>2009</td>\n",
       "      <td>Maltese</td>\n",
       "      <td>10028.0</td>\n",
       "      <td>09/12/2014</td>\n",
       "      <td>10/09/2017</td>\n",
       "      <td>2016</td>\n",
       "      <td>4.0</td>\n",
       "    </tr>\n",
       "    <tr>\n",
       "      <th>...</th>\n",
       "      <td>...</td>\n",
       "      <td>...</td>\n",
       "      <td>...</td>\n",
       "      <td>...</td>\n",
       "      <td>...</td>\n",
       "      <td>...</td>\n",
       "      <td>...</td>\n",
       "      <td>...</td>\n",
       "      <td>...</td>\n",
       "    </tr>\n",
       "    <tr>\n",
       "      <th>616885</th>\n",
       "      <td>SKYE</td>\n",
       "      <td>F</td>\n",
       "      <td>2016</td>\n",
       "      <td>Great Pyrenees</td>\n",
       "      <td>11218.0</td>\n",
       "      <td>11/01/2023</td>\n",
       "      <td>12/02/2024</td>\n",
       "      <td>2023</td>\n",
       "      <td>4.0</td>\n",
       "    </tr>\n",
       "    <tr>\n",
       "      <th>616886</th>\n",
       "      <td>UNKNOWN</td>\n",
       "      <td>F</td>\n",
       "      <td>2023</td>\n",
       "      <td>Shih Tzu Crossbreed</td>\n",
       "      <td>10022.0</td>\n",
       "      <td>11/01/2023</td>\n",
       "      <td>11/01/2024</td>\n",
       "      <td>2023</td>\n",
       "      <td>7.0</td>\n",
       "    </tr>\n",
       "    <tr>\n",
       "      <th>616887</th>\n",
       "      <td>MUNYU</td>\n",
       "      <td>M</td>\n",
       "      <td>2009</td>\n",
       "      <td>Poodle, Toy</td>\n",
       "      <td>11355.0</td>\n",
       "      <td>11/01/2023</td>\n",
       "      <td>11/24/2024</td>\n",
       "      <td>2023</td>\n",
       "      <td>5.0</td>\n",
       "    </tr>\n",
       "    <tr>\n",
       "      <th>616888</th>\n",
       "      <td>SAINT</td>\n",
       "      <td>M</td>\n",
       "      <td>2021</td>\n",
       "      <td>Unknown</td>\n",
       "      <td>11412.0</td>\n",
       "      <td>11/01/2023</td>\n",
       "      <td>11/01/2024</td>\n",
       "      <td>2023</td>\n",
       "      <td>5.0</td>\n",
       "    </tr>\n",
       "    <tr>\n",
       "      <th>616889</th>\n",
       "      <td>BABY</td>\n",
       "      <td>F</td>\n",
       "      <td>2021</td>\n",
       "      <td>Unknown</td>\n",
       "      <td>10473.0</td>\n",
       "      <td>11/01/2023</td>\n",
       "      <td>11/01/2024</td>\n",
       "      <td>2023</td>\n",
       "      <td>4.0</td>\n",
       "    </tr>\n",
       "  </tbody>\n",
       "</table>\n",
       "<p>616890 rows × 9 columns</p>\n",
       "</div>"
      ],
      "text/plain": [
       "       AnimalName AnimalGender AnimalBirthYear  \\\n",
       "0           PAIGE            F            2014   \n",
       "1            YOGI            M            2010   \n",
       "2             ALI            M            2014   \n",
       "3           QUEEN            F            2013   \n",
       "4            LOLA            F            2009   \n",
       "...           ...          ...             ...   \n",
       "616885       SKYE            F            2016   \n",
       "616886    UNKNOWN            F            2023   \n",
       "616887      MUNYU            M            2009   \n",
       "616888      SAINT            M            2021   \n",
       "616889       BABY            F            2021   \n",
       "\n",
       "                                   BreedName  ZipCode LicenseIssuedDate  \\\n",
       "0       American Pit Bull Mix / Pit Bull Mix  10035.0        09/12/2014   \n",
       "1                                      Boxer  10465.0        09/12/2014   \n",
       "2                                    Basenji  10013.0        09/12/2014   \n",
       "3                           Akita Crossbreed  10013.0        09/12/2014   \n",
       "4                                    Maltese  10028.0        09/12/2014   \n",
       "...                                      ...      ...               ...   \n",
       "616885                        Great Pyrenees  11218.0        11/01/2023   \n",
       "616886                   Shih Tzu Crossbreed  10022.0        11/01/2023   \n",
       "616887                           Poodle, Toy  11355.0        11/01/2023   \n",
       "616888                               Unknown  11412.0        11/01/2023   \n",
       "616889                               Unknown  10473.0        11/01/2023   \n",
       "\n",
       "       LicenseExpiredDate  Extract Year  NameLength  \n",
       "0              09/12/2017          2016         5.0  \n",
       "1              10/02/2017          2016         4.0  \n",
       "2              09/12/2019          2016         3.0  \n",
       "3              09/12/2017          2016         5.0  \n",
       "4              10/09/2017          2016         4.0  \n",
       "...                   ...           ...         ...  \n",
       "616885         12/02/2024          2023         4.0  \n",
       "616886         11/01/2024          2023         7.0  \n",
       "616887         11/24/2024          2023         5.0  \n",
       "616888         11/01/2024          2023         5.0  \n",
       "616889         11/01/2024          2023         4.0  \n",
       "\n",
       "[616890 rows x 9 columns]"
      ]
     },
     "execution_count": 15,
     "metadata": {},
     "output_type": "execute_result"
    }
   ],
   "source": [
    "df"
   ]
  },
  {
   "cell_type": "code",
   "execution_count": 48,
   "id": "e1415d69-8bbe-45ba-9234-3d9e452f6686",
   "metadata": {},
   "outputs": [
    {
     "data": {
      "text/plain": [
       "<Axes: >"
      ]
     },
     "execution_count": 48,
     "metadata": {},
     "output_type": "execute_result"
    },
    {
     "data": {
      "image/png": "[encoded data removed]",
      "text/plain": [
       "<Figure size 640x480 with 1 Axes>"
      ]
     },
     "metadata": {},
     "output_type": "display_data"
    }
   ],
   "source": [
    "df[\"NameLength\"].hist()"
   ]
  },
  {
   "cell_type": "markdown",
   "id": "9bb6bcf8-a7e1-4305-a2d9-40e2597aa6f7",
   "metadata": {},
   "source": [
    "# interactive widgets\n",
    "\n",
    "https://ipywidgets.readthedocs.io/en/8.1.5/examples/Widget%20List.html\n",
    "\n",
    "support in google colab"
   ]
  },
  {
   "cell_type": "code",
   "execution_count": 19,
   "id": "112a683a-e0d5-4ea2-914b-dc2ef5a7cbc9",
   "metadata": {},
   "outputs": [],
   "source": [
    "from ipywidgets import interact, IntSlider,FloatSlider,Text"
   ]
  },
  {
   "cell_type": "code",
   "execution_count": 2,
   "id": "153186ac-8de3-4ccb-80ee-4547989d527f",
   "metadata": {
    "scrolled": true
   },
   "outputs": [
    {
     "name": "stdout",
     "output_type": "stream",
     "text": [
      "Requirement already satisfied: ipywidgets in /Library/Frameworks/Python.framework/Versions/3.12/lib/python3.12/site-packages (8.1.5)\n",
      "Requirement already satisfied: comm>=0.1.3 in /Library/Frameworks/Python.framework/Versions/3.12/lib/python3.12/site-packages (from ipywidgets) (0.2.2)\n",
      "Requirement already satisfied: ipython>=6.1.0 in /Library/Frameworks/Python.framework/Versions/3.12/lib/python3.12/site-packages (from ipywidgets) (8.27.0)\n",
      "Requirement already satisfied: traitlets>=4.3.1 in /Library/Frameworks/Python.framework/Versions/3.12/lib/python3.12/site-packages (from ipywidgets) (5.14.3)\n",
      "Requirement already satisfied: widgetsnbextension~=4.0.12 in /Library/Frameworks/Python.framework/Versions/3.12/lib/python3.12/site-packages (from ipywidgets) (4.0.13)\n",
      "Requirement already satisfied: jupyterlab-widgets~=3.0.12 in /Library/Frameworks/Python.framework/Versions/3.12/lib/python3.12/site-packages (from ipywidgets) (3.0.13)\n",
      "Requirement already satisfied: decorator in /Library/Frameworks/Python.framework/Versions/3.12/lib/python3.12/site-packages (from ipython>=6.1.0->ipywidgets) (5.1.1)\n",
      "Requirement already satisfied: jedi>=0.16 in /Library/Frameworks/Python.framework/Versions/3.12/lib/python3.12/site-packages (from ipython>=6.1.0->ipywidgets) (0.19.1)\n",
      "Requirement already satisfied: matplotlib-inline in /Library/Frameworks/Python.framework/Versions/3.12/lib/python3.12/site-packages (from ipython>=6.1.0->ipywidgets) (0.1.7)\n",
      "Requirement already satisfied: prompt-toolkit<3.1.0,>=3.0.41 in /Library/Frameworks/Python.framework/Versions/3.12/lib/python3.12/site-packages (from ipython>=6.1.0->ipywidgets) (3.0.47)\n",
      "Requirement already satisfied: pygments>=2.4.0 in /Library/Frameworks/Python.framework/Versions/3.12/lib/python3.12/site-packages (from ipython>=6.1.0->ipywidgets) (2.18.0)\n",
      "Requirement already satisfied: stack-data in /Library/Frameworks/Python.framework/Versions/3.12/lib/python3.12/site-packages (from ipython>=6.1.0->ipywidgets) (0.6.3)\n",
      "Requirement already satisfied: pexpect>4.3 in /Library/Frameworks/Python.framework/Versions/3.12/lib/python3.12/site-packages (from ipython>=6.1.0->ipywidgets) (4.9.0)\n",
      "Requirement already satisfied: parso<0.9.0,>=0.8.3 in /Library/Frameworks/Python.framework/Versions/3.12/lib/python3.12/site-packages (from jedi>=0.16->ipython>=6.1.0->ipywidgets) (0.8.4)\n",
      "Requirement already satisfied: ptyprocess>=0.5 in /Library/Frameworks/Python.framework/Versions/3.12/lib/python3.12/site-packages (from pexpect>4.3->ipython>=6.1.0->ipywidgets) (0.7.0)\n",
      "Requirement already satisfied: wcwidth in /Library/Frameworks/Python.framework/Versions/3.12/lib/python3.12/site-packages (from prompt-toolkit<3.1.0,>=3.0.41->ipython>=6.1.0->ipywidgets) (0.2.13)\n",
      "Requirement already satisfied: executing>=1.2.0 in /Library/Frameworks/Python.framework/Versions/3.12/lib/python3.12/site-packages (from stack-data->ipython>=6.1.0->ipywidgets) (2.1.0)\n",
      "Requirement already satisfied: asttokens>=2.1.0 in /Library/Frameworks/Python.framework/Versions/3.12/lib/python3.12/site-packages (from stack-data->ipython>=6.1.0->ipywidgets) (2.4.1)\n",
      "Requirement already satisfied: pure-eval in /Library/Frameworks/Python.framework/Versions/3.12/lib/python3.12/site-packages (from stack-data->ipython>=6.1.0->ipywidgets) (0.2.3)\n",
      "Requirement already satisfied: six>=1.12.0 in /Library/Frameworks/Python.framework/Versions/3.12/lib/python3.12/site-packages (from asttokens>=2.1.0->stack-data->ipython>=6.1.0->ipywidgets) (1.16.0)\n",
      "Note: you may need to restart the kernel to use updated packages.\n"
     ]
    }
   ],
   "source": [
    "%pip install ipywidgets"
   ]
  },
  {
   "cell_type": "code",
   "execution_count": 4,
   "id": "5ae4588a-d066-4ee0-b7d8-1b97ee20a91b",
   "metadata": {},
   "outputs": [],
   "source": [
    "def show_square(x):\n",
    "    print(x*x)"
   ]
  },
  {
   "cell_type": "code",
   "execution_count": 5,
   "id": "df12b54b-3eae-4980-b971-423ee94c5361",
   "metadata": {},
   "outputs": [
    {
     "name": "stdout",
     "output_type": "stream",
     "text": [
      "16\n"
     ]
    }
   ],
   "source": [
    "show_square(4)"
   ]
  },
  {
   "cell_type": "code",
   "execution_count": 7,
   "id": "2048905c-dad3-406a-86e6-3405bb726948",
   "metadata": {},
   "outputs": [
    {
     "data": {
      "application/vnd.jupyter.widget-view+json": {
       "model_id": "c3cdcebbb88d425e935de9120567da07",
       "version_major": 2,
       "version_minor": 0
      },
      "text/plain": [
       "interactive(children=(IntSlider(value=0, description='x', max=1000, min=-1000, step=20), Output()), _dom_class…"
      ]
     },
     "metadata": {},
     "output_type": "display_data"
    },
    {
     "data": {
      "text/plain": [
       "<function __main__.show_square(x)>"
      ]
     },
     "execution_count": 7,
     "metadata": {},
     "output_type": "execute_result"
    }
   ],
   "source": [
    "interact(show_square,x=IntSlider(min=-1000,max=1000,step=20))"
   ]
  },
  {
   "cell_type": "code",
   "execution_count": 10,
   "id": "75bb9464-b4ff-4ba0-bfa8-719567cf3c0a",
   "metadata": {},
   "outputs": [
    {
     "data": {
      "application/vnd.jupyter.widget-view+json": {
       "model_id": "f518cdef4bb5408e90dfbac8f1da1b8c",
       "version_major": 2,
       "version_minor": 0
      },
      "text/plain": [
       "interactive(children=(FloatSlider(value=0.0, description='x', max=1.0, step=0.01), Output()), _dom_classes=('w…"
      ]
     },
     "metadata": {},
     "output_type": "display_data"
    },
    {
     "data": {
      "text/plain": [
       "<function __main__.show_square(x)>"
      ]
     },
     "execution_count": 10,
     "metadata": {},
     "output_type": "execute_result"
    }
   ],
   "source": [
    "interact(show_square,x=FloatSlider(min=0,max=1,step=0.01))"
   ]
  },
  {
   "cell_type": "code",
   "execution_count": 16,
   "id": "7f16647d-8f4f-4e7b-a2f0-a440d3c0c7ee",
   "metadata": {},
   "outputs": [
    {
     "data": {
      "text/plain": [
       "<Axes: ylabel='BreedName'>"
      ]
     },
     "execution_count": 16,
     "metadata": {},
     "output_type": "execute_result"
    },
    {
     "data": {
      "image/png": "[encoded data removed]",
      "text/plain": [
       "<Figure size 640x480 with 1 Axes>"
      ]
     },
     "metadata": {},
     "output_type": "display_data"
    }
   ],
   "source": [
    "df[df[\"ZipCode\"]==11201][\"BreedName\"].value_counts()[:5].plot(kind=\"barh\")"
   ]
  },
  {
   "cell_type": "code",
   "execution_count": 36,
   "id": "ffcdb002-d239-4782-b4ba-0c20000bfb7c",
   "metadata": {},
   "outputs": [],
   "source": [
    "def popular_breeds_by_zip(zipcode):\n",
    "    df[df[\"ZipCode\"] == int(zipcode)][\"BreedName\"].value_counts()[:5].plot(kind=\"barh\")"
   ]
  },
  {
   "cell_type": "code",
   "execution_count": 38,
   "id": "33b84396-2306-4d5a-a37c-c49d7f367fb7",
   "metadata": {},
   "outputs": [
    {
     "data": {
      "application/vnd.jupyter.widget-view+json": {
       "model_id": "d6af09e403e44471a0d18f3bda863b34",
       "version_major": 2,
       "version_minor": 0
      },
      "text/plain": [
       "interactive(children=(Text(value='', description='zipcode'), Output()), _dom_classes=('widget-interact',))"
      ]
     },
     "metadata": {},
     "output_type": "display_data"
    },
    {
     "data": {
      "text/plain": [
       "<function __main__.popular_breeds_by_zip(zipcode)>"
      ]
     },
     "execution_count": 38,
     "metadata": {},
     "output_type": "execute_result"
    }
   ],
   "source": [
    "interact(popular_breeds_by_zip,zipcode=Text())"
   ]
  },
  {
   "cell_type": "code",
   "execution_count": 18,
   "id": "b12f14c0-42ec-40bb-abfb-44ddc6b5da45",
   "metadata": {},
   "outputs": [
    {
     "data": {
      "image/png": "[encoded data removed]",
      "text/plain": [
       "<Figure size 640x480 with 1 Axes>"
      ]
     },
     "metadata": {},
     "output_type": "display_data"
    }
   ],
   "source": [
    "popular_breeds_by_zip(11221)"
   ]
  },
  {
   "cell_type": "markdown",
   "id": "ab91a0b2-2a06-4153-abca-3cd327b073b5",
   "metadata": {},
   "source": [
    "# pygwalker\n",
    "\n",
    "https://github.com/Kanaries/pygwalker"
   ]
  },
  {
   "cell_type": "code",
   "execution_count": 39,
   "id": "e1d40492-4ab7-4048-8f08-94a846ac64ae",
   "metadata": {
    "scrolled": true
   },
   "outputs": [
    {
     "name": "stdout",
     "output_type": "stream",
     "text": [
      "Collecting pygwalker\n",
      "  Downloading pygwalker-0.4.9.13-py3-none-any.whl.metadata (20 kB)\n",
      "Collecting anywidget (from pygwalker)\n",
      "  Downloading anywidget-0.9.13-py3-none-any.whl.metadata (7.2 kB)\n",
      "Collecting appdirs (from pygwalker)\n",
      "  Downloading appdirs-1.4.4-py2.py3-none-any.whl.metadata (9.0 kB)\n",
      "Requirement already satisfied: arrow in /Library/Frameworks/Python.framework/Versions/3.12/lib/python3.12/site-packages (from pygwalker) (1.3.0)\n",
      "Collecting astor (from pygwalker)\n",
      "  Downloading astor-0.8.1-py2.py3-none-any.whl.metadata (4.2 kB)\n",
      "Collecting cachetools (from pygwalker)\n",
      "  Downloading cachetools-5.5.0-py3-none-any.whl.metadata (5.3 kB)\n",
      "Collecting duckdb<2.0.0,>=0.10.1 (from pygwalker)\n",
      "  Downloading duckdb-1.1.3-cp312-cp312-macosx_12_0_arm64.whl.metadata (762 bytes)\n",
      "Collecting gw-dsl-parser==0.1.49.1 (from pygwalker)\n",
      "  Downloading gw_dsl_parser-0.1.49.1-py3-none-any.whl.metadata (1.2 kB)\n",
      "Collecting ipylab<=1.0.0 (from pygwalker)\n",
      "  Downloading ipylab-1.0.0-py3-none-any.whl.metadata (6.7 kB)\n",
      "Requirement already satisfied: ipython in /Library/Frameworks/Python.framework/Versions/3.12/lib/python3.12/site-packages (from pygwalker) (8.27.0)\n",
      "Requirement already satisfied: ipywidgets in /Library/Frameworks/Python.framework/Versions/3.12/lib/python3.12/site-packages (from pygwalker) (8.1.5)\n",
      "Requirement already satisfied: jinja2 in /Library/Frameworks/Python.framework/Versions/3.12/lib/python3.12/site-packages (from pygwalker) (3.1.4)\n",
      "Collecting kanaries-track==0.0.5 (from pygwalker)\n",
      "  Downloading kanaries_track-0.0.5-py3-none-any.whl.metadata (913 bytes)\n",
      "Collecting numpy<2.0.0 (from pygwalker)\n",
      "  Downloading numpy-1.26.4-cp312-cp312-macosx_11_0_arm64.whl.metadata (61 kB)\n",
      "Requirement already satisfied: packaging in /Library/Frameworks/Python.framework/Versions/3.12/lib/python3.12/site-packages (from pygwalker) (24.1)\n",
      "Requirement already satisfied: pandas in /Library/Frameworks/Python.framework/Versions/3.12/lib/python3.12/site-packages (from pygwalker) (2.2.3)\n",
      "Requirement already satisfied: psutil in /Library/Frameworks/Python.framework/Versions/3.12/lib/python3.12/site-packages (from pygwalker) (6.0.0)\n",
      "Collecting pyarrow (from pygwalker)\n",
      "  Downloading pyarrow-18.0.0-cp312-cp312-macosx_12_0_arm64.whl.metadata (3.3 kB)\n",
      "Collecting pydantic (from pygwalker)\n",
      "  Downloading pydantic-2.10.1-py3-none-any.whl.metadata (169 kB)\n",
      "Requirement already satisfied: pytz in /Library/Frameworks/Python.framework/Versions/3.12/lib/python3.12/site-packages (from pygwalker) (2024.2)\n",
      "Collecting quickjs (from pygwalker)\n",
      "  Downloading quickjs-1.19.4-cp312-cp312-macosx_10_9_universal2.whl.metadata (590 bytes)\n",
      "Requirement already satisfied: requests in /Library/Frameworks/Python.framework/Versions/3.12/lib/python3.12/site-packages (from pygwalker) (2.32.3)\n",
      "Collecting segment-analytics-python==2.2.3 (from pygwalker)\n",
      "  Downloading segment_analytics_python-2.2.3-py2.py3-none-any.whl.metadata (1.6 kB)\n",
      "Requirement already satisfied: sqlalchemy in /Library/Frameworks/Python.framework/Versions/3.12/lib/python3.12/site-packages (from pygwalker) (2.0.36)\n",
      "Requirement already satisfied: sqlglot>=23.15.8 in /Library/Frameworks/Python.framework/Versions/3.12/lib/python3.12/site-packages (from pygwalker) (25.30.0)\n",
      "Requirement already satisfied: traitlets in /Library/Frameworks/Python.framework/Versions/3.12/lib/python3.12/site-packages (from pygwalker) (5.14.3)\n",
      "Requirement already satisfied: typing-extensions in /Library/Frameworks/Python.framework/Versions/3.12/lib/python3.12/site-packages (from pygwalker) (4.12.2)\n",
      "Collecting wasmtime>=12.0.0 (from gw-dsl-parser==0.1.49.1->pygwalker)\n",
      "  Downloading wasmtime-27.0.2-py3-none-macosx_11_0_arm64.whl.metadata (7.5 kB)\n",
      "Requirement already satisfied: backoff>=2.2.1 in /Library/Frameworks/Python.framework/Versions/3.12/lib/python3.12/site-packages (from kanaries-track==0.0.5->pygwalker) (2.2.1)\n",
      "Collecting dateutils>=0.6.12 (from kanaries-track==0.0.5->pygwalker)\n",
      "  Downloading dateutils-0.6.12-py2.py3-none-any.whl.metadata (1.3 kB)\n",
      "Requirement already satisfied: monotonic~=1.5 in /Library/Frameworks/Python.framework/Versions/3.12/lib/python3.12/site-packages (from segment-analytics-python==2.2.3->pygwalker) (1.6)\n",
      "Requirement already satisfied: python-dateutil~=2.2 in /Library/Frameworks/Python.framework/Versions/3.12/lib/python3.12/site-packages (from segment-analytics-python==2.2.3->pygwalker) (2.9.0.post0)\n",
      "Requirement already satisfied: comm>=0.1.3 in /Library/Frameworks/Python.framework/Versions/3.12/lib/python3.12/site-packages (from ipywidgets->pygwalker) (0.2.2)\n",
      "Requirement already satisfied: widgetsnbextension~=4.0.12 in /Library/Frameworks/Python.framework/Versions/3.12/lib/python3.12/site-packages (from ipywidgets->pygwalker) (4.0.13)\n",
      "Requirement already satisfied: jupyterlab-widgets~=3.0.12 in /Library/Frameworks/Python.framework/Versions/3.12/lib/python3.12/site-packages (from ipywidgets->pygwalker) (3.0.13)\n",
      "Requirement already satisfied: decorator in /Library/Frameworks/Python.framework/Versions/3.12/lib/python3.12/site-packages (from ipython->pygwalker) (5.1.1)\n",
      "Requirement already satisfied: jedi>=0.16 in /Library/Frameworks/Python.framework/Versions/3.12/lib/python3.12/site-packages (from ipython->pygwalker) (0.19.1)\n",
      "Requirement already satisfied: matplotlib-inline in /Library/Frameworks/Python.framework/Versions/3.12/lib/python3.12/site-packages (from ipython->pygwalker) (0.1.7)\n",
      "Requirement already satisfied: prompt-toolkit<3.1.0,>=3.0.41 in /Library/Frameworks/Python.framework/Versions/3.12/lib/python3.12/site-packages (from ipython->pygwalker) (3.0.47)\n",
      "Requirement already satisfied: pygments>=2.4.0 in /Library/Frameworks/Python.framework/Versions/3.12/lib/python3.12/site-packages (from ipython->pygwalker) (2.18.0)\n",
      "Requirement already satisfied: stack-data in /Library/Frameworks/Python.framework/Versions/3.12/lib/python3.12/site-packages (from ipython->pygwalker) (0.6.3)\n",
      "Requirement already satisfied: pexpect>4.3 in /Library/Frameworks/Python.framework/Versions/3.12/lib/python3.12/site-packages (from ipython->pygwalker) (4.9.0)\n",
      "Requirement already satisfied: charset-normalizer<4,>=2 in /Library/Frameworks/Python.framework/Versions/3.12/lib/python3.12/site-packages (from requests->pygwalker) (3.3.2)\n",
      "Requirement already satisfied: idna<4,>=2.5 in /Library/Frameworks/Python.framework/Versions/3.12/lib/python3.12/site-packages (from requests->pygwalker) (3.8)\n",
      "Requirement already satisfied: urllib3<3,>=1.21.1 in /Library/Frameworks/Python.framework/Versions/3.12/lib/python3.12/site-packages (from requests->pygwalker) (2.2.2)\n",
      "Requirement already satisfied: certifi>=2017.4.17 in /Library/Frameworks/Python.framework/Versions/3.12/lib/python3.12/site-packages (from requests->pygwalker) (2024.8.30)\n",
      "Collecting psygnal>=0.8.1 (from anywidget->pygwalker)\n",
      "  Downloading psygnal-0.11.1-py3-none-any.whl.metadata (7.2 kB)\n",
      "Requirement already satisfied: types-python-dateutil>=2.8.10 in /Library/Frameworks/Python.framework/Versions/3.12/lib/python3.12/site-packages (from arrow->pygwalker) (2.9.0.20240906)\n",
      "Requirement already satisfied: MarkupSafe>=2.0 in /Library/Frameworks/Python.framework/Versions/3.12/lib/python3.12/site-packages (from jinja2->pygwalker) (2.1.5)\n",
      "Requirement already satisfied: tzdata>=2022.7 in /Library/Frameworks/Python.framework/Versions/3.12/lib/python3.12/site-packages (from pandas->pygwalker) (2024.2)\n",
      "Collecting annotated-types>=0.6.0 (from pydantic->pygwalker)\n",
      "  Downloading annotated_types-0.7.0-py3-none-any.whl.metadata (15 kB)\n",
      "Collecting pydantic-core==2.27.1 (from pydantic->pygwalker)\n",
      "  Downloading pydantic_core-2.27.1-cp312-cp312-macosx_11_0_arm64.whl.metadata (6.6 kB)\n",
      "Requirement already satisfied: parso<0.9.0,>=0.8.3 in /Library/Frameworks/Python.framework/Versions/3.12/lib/python3.12/site-packages (from jedi>=0.16->ipython->pygwalker) (0.8.4)\n",
      "Requirement already satisfied: ptyprocess>=0.5 in /Library/Frameworks/Python.framework/Versions/3.12/lib/python3.12/site-packages (from pexpect>4.3->ipython->pygwalker) (0.7.0)\n",
      "Requirement already satisfied: wcwidth in /Library/Frameworks/Python.framework/Versions/3.12/lib/python3.12/site-packages (from prompt-toolkit<3.1.0,>=3.0.41->ipython->pygwalker) (0.2.13)\n",
      "Requirement already satisfied: six>=1.5 in /Library/Frameworks/Python.framework/Versions/3.12/lib/python3.12/site-packages (from python-dateutil~=2.2->segment-analytics-python==2.2.3->pygwalker) (1.16.0)\n",
      "Collecting importlib_resources>=5.10 (from wasmtime>=12.0.0->gw-dsl-parser==0.1.49.1->pygwalker)\n",
      "  Downloading importlib_resources-6.4.5-py3-none-any.whl.metadata (4.0 kB)\n",
      "Requirement already satisfied: executing>=1.2.0 in /Library/Frameworks/Python.framework/Versions/3.12/lib/python3.12/site-packages (from stack-data->ipython->pygwalker) (2.1.0)\n",
      "Requirement already satisfied: asttokens>=2.1.0 in /Library/Frameworks/Python.framework/Versions/3.12/lib/python3.12/site-packages (from stack-data->ipython->pygwalker) (2.4.1)\n",
      "Requirement already satisfied: pure-eval in /Library/Frameworks/Python.framework/Versions/3.12/lib/python3.12/site-packages (from stack-data->ipython->pygwalker) (0.2.3)\n",
      "Downloading pygwalker-0.4.9.13-py3-none-any.whl (4.5 MB)\n",
      "\u001b[2K   \u001b[90m━━━━━━━━━━━━━━━━━━━━━━━━━━━━━━━━━━━━━━━━\u001b[0m \u001b[32m4.5/4.5 MB\u001b[0m \u001b[31m2.3 MB/s\u001b[0m eta \u001b[36m0:00:00\u001b[0m00:01\u001b[0m00:01\u001b[0m\n",
      "\u001b[?25hDownloading gw_dsl_parser-0.1.49.1-py3-none-any.whl (956 kB)\n",
      "\u001b[2K   \u001b[90m━━━━━━━━━━━━━━━━━━━━━━━━━━━━━━━━━━━━━━━━\u001b[0m \u001b[32m956.2/956.2 kB\u001b[0m \u001b[31m1.8 MB/s\u001b[0m eta \u001b[36m0:00:00\u001b[0ma \u001b[36m0:00:01\u001b[0m\n",
      "\u001b[?25hDownloading kanaries_track-0.0.5-py3-none-any.whl (8.6 kB)\n",
      "Downloading segment_analytics_python-2.2.3-py2.py3-none-any.whl (24 kB)\n",
      "Downloading duckdb-1.1.3-cp312-cp312-macosx_12_0_arm64.whl (15.5 MB)\n",
      "\u001b[2K   \u001b[90m━━━━━━━━━━━━━━━━━━━━━━━━━━━━━━━━━━━━━━━━\u001b[0m \u001b[32m15.5/15.5 MB\u001b[0m \u001b[31m2.2 MB/s\u001b[0m eta \u001b[36m0:00:00\u001b[0m00:01\u001b[0m00:01\u001b[0m\n",
      "\u001b[?25hDownloading ipylab-1.0.0-py3-none-any.whl (100 kB)\n",
      "Downloading numpy-1.26.4-cp312-cp312-macosx_11_0_arm64.whl (13.7 MB)\n",
      "\u001b[2K   \u001b[90m━━━━━━━━━━━━━━━━━━━━━━━━━━━━━━━━━━━━━━━━\u001b[0m \u001b[32m13.7/13.7 MB\u001b[0m \u001b[31m3.5 MB/s\u001b[0m eta \u001b[36m0:00:00\u001b[0m00:01\u001b[0m00:01\u001b[0m\n",
      "\u001b[?25hDownloading anywidget-0.9.13-py3-none-any.whl (213 kB)\n",
      "Downloading appdirs-1.4.4-py2.py3-none-any.whl (9.6 kB)\n",
      "Downloading astor-0.8.1-py2.py3-none-any.whl (27 kB)\n",
      "Downloading cachetools-5.5.0-py3-none-any.whl (9.5 kB)\n",
      "Downloading pyarrow-18.0.0-cp312-cp312-macosx_12_0_arm64.whl (29.5 MB)\n",
      "\u001b[2K   \u001b[90m━━━━━━━━━━━━━━━━━━━━━━━━━━━━━━━━━━━━━━━━\u001b[0m \u001b[32m29.5/29.5 MB\u001b[0m \u001b[31m4.3 MB/s\u001b[0m eta \u001b[36m0:00:00\u001b[0m00:01\u001b[0m00:01\u001b[0m\n",
      "\u001b[?25hDownloading pydantic-2.10.1-py3-none-any.whl (455 kB)\n",
      "Downloading pydantic_core-2.27.1-cp312-cp312-macosx_11_0_arm64.whl (1.8 MB)\n",
      "\u001b[2K   \u001b[90m━━━━━━━━━━━━━━━━━━━━━━━━━━━━━━━━━━━━━━━━\u001b[0m \u001b[32m1.8/1.8 MB\u001b[0m \u001b[31m3.2 MB/s\u001b[0m eta \u001b[36m0:00:00\u001b[0ma \u001b[36m0:00:01\u001b[0m\n",
      "\u001b[?25hDownloading quickjs-1.19.4-cp312-cp312-macosx_10_9_universal2.whl (1.0 MB)\n",
      "\u001b[2K   \u001b[90m━━━━━━━━━━━━━━━━━━━━━━━━━━━━━━━━━━━━━━━━\u001b[0m \u001b[32m1.0/1.0 MB\u001b[0m \u001b[31m3.8 MB/s\u001b[0m eta \u001b[36m0:00:00\u001b[0ma \u001b[36m0:00:01\u001b[0m\n",
      "\u001b[?25hDownloading annotated_types-0.7.0-py3-none-any.whl (13 kB)\n",
      "Downloading dateutils-0.6.12-py2.py3-none-any.whl (5.7 kB)\n",
      "Downloading psygnal-0.11.1-py3-none-any.whl (76 kB)\n",
      "Downloading wasmtime-27.0.2-py3-none-macosx_11_0_arm64.whl (5.3 MB)\n",
      "\u001b[2K   \u001b[90m━━━━━━━━━━━━━━━━━━━━━━━━━━━━━━━━━━━━━━━━\u001b[0m \u001b[32m5.3/5.3 MB\u001b[0m \u001b[31m4.3 MB/s\u001b[0m eta \u001b[36m0:00:00\u001b[0ma \u001b[36m0:00:01\u001b[0m\n",
      "\u001b[?25hDownloading importlib_resources-6.4.5-py3-none-any.whl (36 kB)\n",
      "Installing collected packages: quickjs, appdirs, pydantic-core, pyarrow, psygnal, numpy, importlib_resources, duckdb, cachetools, astor, annotated-types, wasmtime, segment-analytics-python, pydantic, dateutils, kanaries-track, gw-dsl-parser, ipylab, anywidget, pygwalker\n",
      "  Attempting uninstall: numpy\n",
      "    Found existing installation: numpy 2.1.1\n",
      "    Uninstalling numpy-2.1.1:\n",
      "      Successfully uninstalled numpy-2.1.1\n",
      "Successfully installed annotated-types-0.7.0 anywidget-0.9.13 appdirs-1.4.4 astor-0.8.1 cachetools-5.5.0 dateutils-0.6.12 duckdb-1.1.3 gw-dsl-parser-0.1.49.1 importlib_resources-6.4.5 ipylab-1.0.0 kanaries-track-0.0.5 numpy-1.26.4 psygnal-0.11.1 pyarrow-18.0.0 pydantic-2.10.1 pydantic-core-2.27.1 pygwalker-0.4.9.13 quickjs-1.19.4 segment-analytics-python-2.2.3 wasmtime-27.0.2\n",
      "Note: you may need to restart the kernel to use updated packages.\n"
     ]
    }
   ],
   "source": [
    "%pip install pygwalker"
   ]
  },
  {
   "cell_type": "code",
   "execution_count": 40,
   "id": "2661173d-6bbd-4a00-be9b-2a38a43e76a2",
   "metadata": {},
   "outputs": [],
   "source": [
    "import pygwalker as pyg"
   ]
  },
  {
   "cell_type": "code",
   "execution_count": 42,
   "id": "2b77e094-301c-4c53-b909-5ef99dd47fac",
   "metadata": {},
   "outputs": [
    {
     "data": {
      "application/vnd.jupyter.widget-view+json": {
       "model_id": "217f858aee7c4eb78f48b22b383e3657",
       "version_major": 2,
       "version_minor": 0
      },
      "text/plain": [
       "Box(children=(HTML(value='\\n<div id=\"ifr-pyg-000627c6b18177f7Xuajmle8oPQJsEc3\" style=\"height: auto\">\\n    <hea…"
      ]
     },
     "metadata": {},
     "output_type": "display_data"
    },
    {
     "data": {
      "text/html": [
       "<script>\n",
       "    window.addEventListener(\"message\", function(event) {\n",
       "        const backgroundMap = {\n",
       "            \"dark\": \"hsl(240 10% 3.9%)\",\n",
       "            \"light\": \"hsl(0 0 100%)\",\n",
       "        };\n",
       "        const colorMap = {\n",
       "            \"dark\": \"hsl(0 0% 98%)\",\n",
       "            \"light\": \"hsl(240 10% 3.9%)\",\n",
       "        };\n",
       "        if (event.data.action === \"changeAppearance\" && event.data.gid === \"000627c6b18177f7Xuajmle8oPQJsEc3\") {\n",
       "            var iframe = document.getElementById(\"gwalker-000627c6b18177f7Xuajmle8oPQJsEc3\");\n",
       "            iframe.style.background  = backgroundMap[event.data.appearance];\n",
       "            iframe.style.color = colorMap[event.data.appearance];\n",
       "        }\n",
       "    });\n",
       "</script>"
      ],
      "text/plain": [
       "<IPython.core.display.HTML object>"
      ]
     },
     "metadata": {},
     "output_type": "display_data"
    },
    {
     "data": {
      "text/html": [],
      "text/plain": [
       "<IPython.core.display.HTML object>"
      ]
     },
     "metadata": {},
     "output_type": "display_data"
    },
    {
     "data": {
      "text/plain": [
       "<pygwalker.api.pygwalker.PygWalker at 0x11ac206b0>"
      ]
     },
     "execution_count": 42,
     "metadata": {},
     "output_type": "execute_result"
    }
   ],
   "source": [
    "pyg.walk(df)"
   ]
  }
 ],
 "metadata": {
  "kernelspec": {
   "display_name": "Python 3 (ipykernel)",
   "language": "python",
   "name": "python3"
  },
  "language_info": {
   "codemirror_mode": {
    "name": "ipython",
    "version": 3
   },
   "file_extension": ".py",
   "mimetype": "text/x-python",
   "name": "python",
   "nbconvert_exporter": "python",
   "pygments_lexer": "ipython3",
   "version": "3.12.6"
  }
 },
 "nbformat": 4,
 "nbformat_minor": 5
}
