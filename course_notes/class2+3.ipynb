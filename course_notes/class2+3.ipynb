{
 "cells": [
  {
   "cell_type": "code",
   "execution_count": 1,
   "id": "833ad2c8-1720-4051-990f-fa332c247df8",
   "metadata": {},
   "outputs": [
    {
     "data": {
      "text/plain": [
       "30"
      ]
     },
     "execution_count": 1,
     "metadata": {},
     "output_type": "execute_result"
    }
   ],
   "source": [
    "5*6\n"
   ]
  },
  {
   "cell_type": "code",
   "execution_count": 2,
   "id": "d05db434-4884-4dc0-b07f-e06b42d4bd17",
   "metadata": {},
   "outputs": [
    {
     "data": {
      "text/plain": [
       "4.0"
      ]
     },
     "execution_count": 2,
     "metadata": {},
     "output_type": "execute_result"
    }
   ],
   "source": [
    "20/5\n"
   ]
  },
  {
   "cell_type": "code",
   "execution_count": 3,
   "id": "3415502f-4846-4442-8b26-15cbb3cc3fcb",
   "metadata": {},
   "outputs": [
    {
     "data": {
      "text/plain": [
       "4"
      ]
     },
     "execution_count": 3,
     "metadata": {},
     "output_type": "execute_result"
    }
   ],
   "source": [
    "18//4"
   ]
  },
  {
   "cell_type": "code",
   "execution_count": 4,
   "id": "1315c46c-e81d-4635-a537-bead9caacf25",
   "metadata": {},
   "outputs": [
    {
     "data": {
      "text/plain": [
       "(False, True)"
      ]
     },
     "execution_count": 4,
     "metadata": {},
     "output_type": "execute_result"
    }
   ],
   "source": [
    "6 ==7, 7==7"
   ]
  },
  {
   "cell_type": "code",
   "execution_count": 5,
   "id": "2703b333-bf1b-4616-8cb3-20532c3f02be",
   "metadata": {},
   "outputs": [
    {
     "data": {
      "text/plain": [
       "False"
      ]
     },
     "execution_count": 5,
     "metadata": {},
     "output_type": "execute_result"
    }
   ],
   "source": [
    "5 > 6 == 10"
   ]
  },
  {
   "cell_type": "code",
   "execution_count": 13,
   "id": "acc259d1-f2fa-4d7c-abfc-9c2d2b2b16b1",
   "metadata": {},
   "outputs": [],
   "source": [
    "bob=17"
   ]
  },
  {
   "cell_type": "markdown",
   "id": "b2972f5f-9dd2-4900-a4f5-ab910d2758ab",
   "metadata": {},
   "source": [
    "# variables!!"
   ]
  },
  {
   "cell_type": "code",
   "execution_count": 7,
   "id": "dc551c6c-6f11-4cf3-8b55-1f51807854a2",
   "metadata": {},
   "outputs": [],
   "source": [
    "x=(4+5)*6"
   ]
  },
  {
   "cell_type": "code",
   "execution_count": 8,
   "id": "5f44fd4f-f122-40d4-8af7-4da135102e52",
   "metadata": {},
   "outputs": [
    {
     "data": {
      "text/plain": [
       "108"
      ]
     },
     "execution_count": 8,
     "metadata": {},
     "output_type": "execute_result"
    }
   ],
   "source": [
    "2*x"
   ]
  },
  {
   "cell_type": "code",
   "execution_count": 9,
   "id": "d9f1f3ca-fc16-4842-866d-163fcbb385d5",
   "metadata": {},
   "outputs": [],
   "source": [
    "hello = x/3"
   ]
  },
  {
   "cell_type": "code",
   "execution_count": 11,
   "id": "6ef87b03-7fe2-4787-a114-3dcf35e1076c",
   "metadata": {},
   "outputs": [
    {
     "data": {
      "text/plain": [
       "18.0"
      ]
     },
     "execution_count": 11,
     "metadata": {},
     "output_type": "execute_result"
    }
   ],
   "source": [
    "hello"
   ]
  },
  {
   "cell_type": "code",
   "execution_count": 14,
   "id": "1456e623-9eed-4479-961d-e8766fdfe841",
   "metadata": {},
   "outputs": [
    {
     "data": {
      "text/plain": [
       "17"
      ]
     },
     "execution_count": 14,
     "metadata": {},
     "output_type": "execute_result"
    }
   ],
   "source": [
    "bob"
   ]
  },
  {
   "cell_type": "markdown",
   "id": "208ebca9-effd-4e6e-a3d0-ef6b29e5e77b",
   "metadata": {},
   "source": [
    "# types!!\n"
   ]
  },
  {
   "cell_type": "code",
   "execution_count": 23,
   "id": "c878f5e5-5994-4bd9-96c1-cd6e21d6f05c",
   "metadata": {},
   "outputs": [
    {
     "data": {
      "text/plain": [
       "(int, int, float, bool, type)"
      ]
     },
     "execution_count": 23,
     "metadata": {},
     "output_type": "execute_result"
    }
   ],
   "source": [
    "type(5),type(0),type(4.0),type(1>2),type(type) # these are types"
   ]
  },
  {
   "cell_type": "markdown",
   "id": "f93676b3-3ff9-497d-a09a-122046a2a741",
   "metadata": {},
   "source": [
    "# string\n"
   ]
  },
  {
   "cell_type": "code",
   "execution_count": 25,
   "id": "dc4ceb8e-a7a7-43fb-b641-a986101a373f",
   "metadata": {},
   "outputs": [],
   "source": [
    "message = \"i hear strings play 🎵\""
   ]
  },
  {
   "cell_type": "code",
   "execution_count": 26,
   "id": "97a2ba98-9b92-453c-bb1f-1f42dc4d7455",
   "metadata": {},
   "outputs": [
    {
     "data": {
      "text/plain": [
       "str"
      ]
     },
     "execution_count": 26,
     "metadata": {},
     "output_type": "execute_result"
    }
   ],
   "source": [
    "type(message)"
   ]
  },
  {
   "cell_type": "code",
   "execution_count": 27,
   "id": "94eec4ef-62d5-454b-b201-db5e08f958ca",
   "metadata": {},
   "outputs": [
    {
     "data": {
      "text/plain": [
       "'single quotation mark is almost the same'"
      ]
     },
     "execution_count": 27,
     "metadata": {},
     "output_type": "execute_result"
    }
   ],
   "source": [
    "'single quotation mark is almost the same'"
   ]
  },
  {
   "cell_type": "code",
   "execution_count": 28,
   "id": "d3dd22c0-2642-4476-9362-1283788e1378",
   "metadata": {},
   "outputs": [
    {
     "data": {
      "text/plain": [
       "'hellothere'"
      ]
     },
     "execution_count": 28,
     "metadata": {},
     "output_type": "execute_result"
    }
   ],
   "source": [
    "\"hello\" + \"there\""
   ]
  },
  {
   "cell_type": "code",
   "execution_count": 30,
   "id": "22e61677-af39-4ab6-9db0-9188c3918592",
   "metadata": {},
   "outputs": [
    {
     "data": {
      "text/plain": [
       "'i hear strings play 🎵 new sentence'"
      ]
     },
     "execution_count": 30,
     "metadata": {},
     "output_type": "execute_result"
    }
   ],
   "source": [
    "message + \" new sentence\""
   ]
  },
  {
   "cell_type": "code",
   "execution_count": 31,
   "id": "01962dee-d652-490b-ba4b-90efc14771db",
   "metadata": {},
   "outputs": [
    {
     "data": {
      "text/plain": [
       "'hellohellohellohellohello'"
      ]
     },
     "execution_count": 31,
     "metadata": {},
     "output_type": "execute_result"
    }
   ],
   "source": [
    "\"hello\" *5"
   ]
  },
  {
   "cell_type": "markdown",
   "id": "368b01c4-7ba8-45d1-bfc6-0a30c3d1dcff",
   "metadata": {},
   "source": [
    "## escaping strings\n"
   ]
  },
  {
   "cell_type": "code",
   "execution_count": 32,
   "id": "69443285-d27b-46fe-9193-51725835364b",
   "metadata": {},
   "outputs": [],
   "source": [
    "line_from_Play = \"blah blah\\\", then he says, \\\"blah\""
   ]
  },
  {
   "cell_type": "code",
   "execution_count": 33,
   "id": "80a4230d-5148-47e6-af78-9dfeec6b5ac9",
   "metadata": {},
   "outputs": [
    {
     "data": {
      "text/plain": [
       "'blah blah\", then he says, \"blah'"
      ]
     },
     "execution_count": 33,
     "metadata": {},
     "output_type": "execute_result"
    }
   ],
   "source": [
    "line_from_Play"
   ]
  },
  {
   "cell_type": "code",
   "execution_count": 34,
   "id": "6d4023ad-c2da-458d-931a-84257099712b",
   "metadata": {},
   "outputs": [
    {
     "name": "stdout",
     "output_type": "stream",
     "text": [
      "blah blah\", then he says, \"blah\n"
     ]
    }
   ],
   "source": [
    "print(line_from_Play)"
   ]
  },
  {
   "cell_type": "code",
   "execution_count": 39,
   "id": "4be96626-929e-45e7-841f-d04f1ace7610",
   "metadata": {},
   "outputs": [],
   "source": [
    "poem = \" I think that I shall never see\\na peom as lov\\tely as Python\""
   ]
  },
  {
   "cell_type": "code",
   "execution_count": 41,
   "id": "914df63c-3e8e-49d1-9843-fad918ddcc6a",
   "metadata": {},
   "outputs": [
    {
     "name": "stdout",
     "output_type": "stream",
     "text": [
      " I think that I shall never see\n",
      "a peom as lov\tely as Python\n"
     ]
    }
   ],
   "source": [
    "print(poem)"
   ]
  },
  {
   "cell_type": "code",
   "execution_count": 46,
   "id": "88823f0e-4bae-4621-bfcd-b6572efc432d",
   "metadata": {},
   "outputs": [],
   "source": [
    "blah = '5'"
   ]
  },
  {
   "cell_type": "code",
   "execution_count": 47,
   "id": "9588f544-9377-496f-b224-8767bd8617e1",
   "metadata": {},
   "outputs": [
    {
     "data": {
      "text/plain": [
       "11"
      ]
     },
     "execution_count": 47,
     "metadata": {},
     "output_type": "execute_result"
    }
   ],
   "source": [
    "int(blah)+6"
   ]
  },
  {
   "cell_type": "code",
   "execution_count": 44,
   "id": "85f02ad7-9912-4831-a43a-839a68a80545",
   "metadata": {
    "scrolled": true
   },
   "outputs": [
    {
     "data": {
      "text/plain": [
       "'56'"
      ]
     },
     "execution_count": 44,
     "metadata": {},
     "output_type": "execute_result"
    }
   ],
   "source": [
    "blah + \"6\""
   ]
  },
  {
   "cell_type": "code",
   "execution_count": 45,
   "id": "746c9a7c-eaf8-4095-97ed-3e27e4126684",
   "metadata": {},
   "outputs": [
    {
     "data": {
      "text/plain": [
       "455"
      ]
     },
     "execution_count": 45,
     "metadata": {},
     "output_type": "execute_result"
    }
   ],
   "source": [
    "int(\"455\")\n"
   ]
  },
  {
   "cell_type": "code",
   "execution_count": 48,
   "id": "0755a1d4-d942-4453-8078-1f612000c8ae",
   "metadata": {},
   "outputs": [],
   "source": [
    "message = \"Here is a messsage, I'm sleepy.\""
   ]
  },
  {
   "cell_type": "code",
   "execution_count": 49,
   "id": "eb77a8bb-30de-4f17-8a83-323b778bebd5",
   "metadata": {},
   "outputs": [
    {
     "data": {
      "text/plain": [
       "str"
      ]
     },
     "execution_count": 49,
     "metadata": {},
     "output_type": "execute_result"
    }
   ],
   "source": [
    "type(message)"
   ]
  },
  {
   "cell_type": "code",
   "execution_count": 50,
   "id": "28d71e74-580e-4fde-8032-876f0ca61a82",
   "metadata": {},
   "outputs": [
    {
     "data": {
      "text/plain": [
       "31"
      ]
     },
     "execution_count": 50,
     "metadata": {},
     "output_type": "execute_result"
    }
   ],
   "source": [
    "len(message)"
   ]
  },
  {
   "cell_type": "code",
   "execution_count": 51,
   "id": "b0ed55d1-5b16-432b-a917-33911617c2ec",
   "metadata": {},
   "outputs": [
    {
     "data": {
      "text/plain": [
       "\"Here is a messsage, I'm sleepy.\""
      ]
     },
     "execution_count": 51,
     "metadata": {},
     "output_type": "execute_result"
    }
   ],
   "source": [
    "message"
   ]
  },
  {
   "cell_type": "code",
   "execution_count": 54,
   "id": "f496e12e-bb4b-43ad-aa07-9ac3a0af7e0f",
   "metadata": {},
   "outputs": [
    {
     "data": {
      "text/plain": [
       "False"
      ]
     },
     "execution_count": 54,
     "metadata": {},
     "output_type": "execute_result"
    }
   ],
   "source": [
    "\"here\" in message #checking for a substring"
   ]
  },
  {
   "cell_type": "code",
   "execution_count": 53,
   "id": "e875159a-42a8-4527-999a-98b457d4362c",
   "metadata": {},
   "outputs": [
    {
     "data": {
      "text/plain": [
       "True"
      ]
     },
     "execution_count": 53,
     "metadata": {},
     "output_type": "execute_result"
    }
   ],
   "source": [
    "\"Here\" in message"
   ]
  },
  {
   "cell_type": "markdown",
   "id": "ae18a819-5e68-4350-9f57-f017491bafe5",
   "metadata": {},
   "source": [
    "## string methods!"
   ]
  },
  {
   "cell_type": "code",
   "execution_count": 58,
   "id": "d65eacc1-858a-4b42-8678-d04bed8b0339",
   "metadata": {},
   "outputs": [
    {
     "data": {
      "text/plain": [
       "True"
      ]
     },
     "execution_count": 58,
     "metadata": {},
     "output_type": "execute_result"
    }
   ],
   "source": [
    "message.startswith(\"Here\")"
   ]
  },
  {
   "cell_type": "code",
   "execution_count": 59,
   "id": "4c7b4b2c-19aa-41a4-8da4-842d6d55cc2c",
   "metadata": {},
   "outputs": [
    {
     "data": {
      "text/plain": [
       "False"
      ]
     },
     "execution_count": 59,
     "metadata": {},
     "output_type": "execute_result"
    }
   ],
   "source": [
    "message.endswith(\"?\")"
   ]
  },
  {
   "cell_type": "code",
   "execution_count": 67,
   "id": "af0ce12a-6e42-4546-a466-97e60ab53f3c",
   "metadata": {},
   "outputs": [
    {
     "data": {
      "text/plain": [
       "\"**Here is a messsage, I'm sleepy.***\""
      ]
     },
     "execution_count": 67,
     "metadata": {},
     "output_type": "execute_result"
    }
   ],
   "source": [
    " message.center(36,'*')"
   ]
  },
  {
   "cell_type": "code",
   "execution_count": 68,
   "id": "47e897b0-d231-4b14-9408-d8f22f524f3a",
   "metadata": {},
   "outputs": [
    {
     "data": {
      "text/plain": [
       "False"
      ]
     },
     "execution_count": 68,
     "metadata": {},
     "output_type": "execute_result"
    }
   ],
   "source": [
    "message.isupper()"
   ]
  },
  {
   "cell_type": "code",
   "execution_count": 69,
   "id": "18e70de9-4937-4120-a3e0-a8030414c0a3",
   "metadata": {},
   "outputs": [
    {
     "data": {
      "text/plain": [
       "24"
      ]
     },
     "execution_count": 69,
     "metadata": {},
     "output_type": "execute_result"
    }
   ],
   "source": [
    "message.find(\"sleepy\")"
   ]
  },
  {
   "cell_type": "code",
   "execution_count": 71,
   "id": "8c98b1a2-c425-4ba6-8371-53e2c0dc3cb9",
   "metadata": {},
   "outputs": [
    {
     "data": {
      "text/plain": [
       "-1"
      ]
     },
     "execution_count": 71,
     "metadata": {},
     "output_type": "execute_result"
    }
   ],
   "source": [
    "message.find(\"pigeon\")"
   ]
  },
  {
   "cell_type": "code",
   "execution_count": 72,
   "id": "fb7d7c81-de88-4a1d-9fae-daeb5c1e86f4",
   "metadata": {},
   "outputs": [
    {
     "data": {
      "text/plain": [
       "-1"
      ]
     },
     "execution_count": 72,
     "metadata": {},
     "output_type": "execute_result"
    }
   ],
   "source": [
    "message.find(\"Sleepy\")"
   ]
  },
  {
   "cell_type": "code",
   "execution_count": 73,
   "id": "8df147b3-2ded-41e7-8f25-1bd8ab544db8",
   "metadata": {},
   "outputs": [
    {
     "data": {
      "text/plain": [
       "False"
      ]
     },
     "execution_count": 73,
     "metadata": {},
     "output_type": "execute_result"
    }
   ],
   "source": [
    "\"cat\" == \"dog\""
   ]
  },
  {
   "cell_type": "code",
   "execution_count": 74,
   "id": "a5b80d4f-45c8-48fc-909b-2fcaf886ede0",
   "metadata": {},
   "outputs": [
    {
     "data": {
      "text/plain": [
       "'helloworld'"
      ]
     },
     "execution_count": 74,
     "metadata": {},
     "output_type": "execute_result"
    }
   ],
   "source": [
    "\"hello\"+\"world\" # concatenation"
   ]
  },
  {
   "cell_type": "markdown",
   "id": "431109d8-4f69-421f-a822-a1bb49326a77",
   "metadata": {},
   "source": [
    "## string indexing!"
   ]
  },
  {
   "cell_type": "code",
   "execution_count": 75,
   "id": "dba6dcab-9dfd-40ec-a79c-27dd3849e8a5",
   "metadata": {},
   "outputs": [
    {
     "data": {
      "text/plain": [
       "\"Here is a messsage, I'm sleepy.\""
      ]
     },
     "execution_count": 75,
     "metadata": {},
     "output_type": "execute_result"
    }
   ],
   "source": [
    "message"
   ]
  },
  {
   "cell_type": "code",
   "execution_count": 76,
   "id": "1c9d7ab0-6b95-4608-94c6-491f4f9400ca",
   "metadata": {},
   "outputs": [
    {
     "data": {
      "text/plain": [
       "' '"
      ]
     },
     "execution_count": 76,
     "metadata": {},
     "output_type": "execute_result"
    }
   ],
   "source": [
    "message[4]"
   ]
  },
  {
   "cell_type": "code",
   "execution_count": 79,
   "id": "67ac7d73-c29a-473e-af09-6d0cf14c2b50",
   "metadata": {},
   "outputs": [],
   "source": [
    "blah1=\"knowledge\""
   ]
  },
  {
   "cell_type": "code",
   "execution_count": 81,
   "id": "b17273e5-8dc5-4a3a-86f4-5eef6cc4b6cf",
   "metadata": {},
   "outputs": [
    {
     "data": {
      "text/plain": [
       "'k'"
      ]
     },
     "execution_count": 81,
     "metadata": {},
     "output_type": "execute_result"
    }
   ],
   "source": [
    "blah1[0]"
   ]
  },
  {
   "cell_type": "code",
   "execution_count": 82,
   "id": "ba42a131-c86d-4599-a5ed-7c0061a17eb1",
   "metadata": {},
   "outputs": [
    {
     "data": {
      "text/plain": [
       "'w'"
      ]
     },
     "execution_count": 82,
     "metadata": {},
     "output_type": "execute_result"
    }
   ],
   "source": [
    "blah1[3]"
   ]
  },
  {
   "cell_type": "markdown",
   "id": "f566fceb-df37-4c2a-9005-8b1fbfe7c9c0",
   "metadata": {},
   "source": [
    "# list\n",
    "- \"array\"\n",
    "- sequence type"
   ]
  },
  {
   "cell_type": "code",
   "execution_count": 88,
   "id": "632b1ac5-be63-4d85-b820-7cc12e1ce204",
   "metadata": {},
   "outputs": [],
   "source": [
    "good_numbers=[5,10,15,20,30,50,60]"
   ]
  },
  {
   "cell_type": "code",
   "execution_count": 84,
   "id": "c6de2394-c781-4d98-8cf6-d9d3d5aa678b",
   "metadata": {},
   "outputs": [],
   "source": [
    "gloop=[4]"
   ]
  },
  {
   "cell_type": "code",
   "execution_count": 85,
   "id": "3c2cfe27-90da-448a-a620-d193da65d0ee",
   "metadata": {},
   "outputs": [
    {
     "data": {
      "text/plain": [
       "list"
      ]
     },
     "execution_count": 85,
     "metadata": {},
     "output_type": "execute_result"
    }
   ],
   "source": [
    "type(gloop)"
   ]
  },
  {
   "cell_type": "code",
   "execution_count": 86,
   "id": "e48e4bd6-9f04-44a9-8402-b1dd2e45171e",
   "metadata": {},
   "outputs": [
    {
     "data": {
      "text/plain": [
       "1"
      ]
     },
     "execution_count": 86,
     "metadata": {},
     "output_type": "execute_result"
    }
   ],
   "source": [
    "len(gloop)"
   ]
  },
  {
   "cell_type": "code",
   "execution_count": 89,
   "id": "23ed3603-015a-40e6-884d-5d9b5ca869bf",
   "metadata": {},
   "outputs": [
    {
     "data": {
      "text/plain": [
       "7"
      ]
     },
     "execution_count": 89,
     "metadata": {},
     "output_type": "execute_result"
    }
   ],
   "source": [
    "len(good_numbers)"
   ]
  },
  {
   "cell_type": "code",
   "execution_count": 90,
   "id": "b27b32d8-bfc1-4b83-9f6f-57184a12d467",
   "metadata": {},
   "outputs": [
    {
     "data": {
      "text/plain": [
       "0"
      ]
     },
     "execution_count": 90,
     "metadata": {},
     "output_type": "execute_result"
    }
   ],
   "source": [
    "len([])"
   ]
  },
  {
   "cell_type": "code",
   "execution_count": 95,
   "id": "124a042e-863d-4b05-9833-498cad500b6f",
   "metadata": {},
   "outputs": [],
   "source": [
    "good_numbers.append(125)"
   ]
  },
  {
   "cell_type": "code",
   "execution_count": 96,
   "id": "91164aef-6b65-4daa-a56a-937e9f80dfe5",
   "metadata": {},
   "outputs": [
    {
     "data": {
      "text/plain": [
       "[5, 10, 15, 20, 30, 50, 60, 125, 125, 125, 125]"
      ]
     },
     "execution_count": 96,
     "metadata": {},
     "output_type": "execute_result"
    }
   ],
   "source": [
    "good_numbers"
   ]
  },
  {
   "cell_type": "code",
   "execution_count": 97,
   "id": "b5c43c00-8c7b-4774-b453-08e61205d14a",
   "metadata": {},
   "outputs": [],
   "source": [
    "florp=[7,\"hello\",4.3,[1,2,3]]"
   ]
  },
  {
   "cell_type": "code",
   "execution_count": 99,
   "id": "0f1728f9-af1a-408d-9582-e220d762c328",
   "metadata": {},
   "outputs": [
    {
     "data": {
      "text/plain": [
       "4"
      ]
     },
     "execution_count": 99,
     "metadata": {},
     "output_type": "execute_result"
    }
   ],
   "source": [
    "len(florp)"
   ]
  },
  {
   "cell_type": "code",
   "execution_count": 101,
   "id": "eda17dc2-da90-44da-bf7f-d67b0ee65362",
   "metadata": {},
   "outputs": [
    {
     "data": {
      "text/plain": [
       "30"
      ]
     },
     "execution_count": 101,
     "metadata": {},
     "output_type": "execute_result"
    }
   ],
   "source": [
    "good_numbers[4]"
   ]
  },
  {
   "cell_type": "code",
   "execution_count": 102,
   "id": "8eed4ca0-1c63-42bc-b26b-795fe14a4d84",
   "metadata": {},
   "outputs": [
    {
     "data": {
      "text/plain": [
       "[15, 20, 30, 50]"
      ]
     },
     "execution_count": 102,
     "metadata": {},
     "output_type": "execute_result"
    }
   ],
   "source": [
    "good_numbers[2:6]"
   ]
  },
  {
   "cell_type": "code",
   "execution_count": 103,
   "id": "e4805eec-6c16-4f0f-b23e-db3fd79d8ab8",
   "metadata": {},
   "outputs": [
    {
     "data": {
      "text/plain": [
       "int"
      ]
     },
     "execution_count": 103,
     "metadata": {},
     "output_type": "execute_result"
    }
   ],
   "source": [
    "type(good_numbers[0])"
   ]
  },
  {
   "cell_type": "code",
   "execution_count": null,
   "id": "d0df26da-8887-407a-b845-13189e30505c",
   "metadata": {},
   "outputs": [],
   "source": [
    "#sum, min, max, \n",
    "#sorted -> return a list in numerical order"
   ]
  },
  {
   "cell_type": "code",
   "execution_count": 104,
   "id": "28176610-ca74-484f-b1bb-37d5e847388a",
   "metadata": {},
   "outputs": [
    {
     "data": {
      "text/plain": [
       "[5, 10, 15, 20, 30, 50, 60, 125, 125, 125, 125]"
      ]
     },
     "execution_count": 104,
     "metadata": {},
     "output_type": "execute_result"
    }
   ],
   "source": [
    "sorted(good_numbers)"
   ]
  },
  {
   "cell_type": "code",
   "execution_count": 105,
   "id": "b5eb5532-ca68-4f95-be59-9295010b60db",
   "metadata": {},
   "outputs": [
    {
     "data": {
      "text/plain": [
       "True"
      ]
     },
     "execution_count": 105,
     "metadata": {},
     "output_type": "execute_result"
    }
   ],
   "source": [
    "\"zebra\">\"aardvark\""
   ]
  },
  {
   "cell_type": "code",
   "execution_count": 108,
   "id": "d3c82791-d26d-4560-85a7-a5e0a8c18541",
   "metadata": {},
   "outputs": [],
   "source": [
    "words = [\"gsomething\",\"horse\",\"octopus\",\"capybara\"]"
   ]
  },
  {
   "cell_type": "code",
   "execution_count": 109,
   "id": "683dedb9-0241-4a14-b529-469677ff328c",
   "metadata": {},
   "outputs": [
    {
     "data": {
      "text/plain": [
       "['capybara', 'gsomething', 'horse', 'octopus']"
      ]
     },
     "execution_count": 109,
     "metadata": {},
     "output_type": "execute_result"
    }
   ],
   "source": [
    "sorted(words)"
   ]
  },
  {
   "cell_type": "code",
   "execution_count": 110,
   "id": "48645dc1-7a41-4cac-8c69-e6c4b0b14784",
   "metadata": {},
   "outputs": [
    {
     "name": "stdout",
     "output_type": "stream",
     "text": [
      "Help on built-in function sum in module builtins:\n",
      "\n",
      "sum(iterable, /, start=0)\n",
      "    Return the sum of a 'start' value (default: 0) plus an iterable of numbers\n",
      "\n",
      "    When the iterable is empty, return the start value.\n",
      "    This function is intended specifically for use with numeric values and may\n",
      "    reject non-numeric types.\n",
      "\n"
     ]
    }
   ],
   "source": [
    "help(sum)"
   ]
  },
  {
   "cell_type": "code",
   "execution_count": 112,
   "id": "0c89ac4f-55da-462b-b981-7be6d3e868b5",
   "metadata": {
    "scrolled": true
   },
   "outputs": [
    {
     "ename": "TypeError",
     "evalue": "sum() can't sum strings [use ''.join(seq) instead]",
     "output_type": "error",
     "traceback": [
      "\u001b[0;31m---------------------------------------------------------------------------\u001b[0m",
      "\u001b[0;31mTypeError\u001b[0m                                 Traceback (most recent call last)",
      "Cell \u001b[0;32mIn[112], line 1\u001b[0m\n\u001b[0;32m----> 1\u001b[0m \u001b[38;5;28;43msum\u001b[39;49m\u001b[43m(\u001b[49m\u001b[43mwords\u001b[49m\u001b[43m,\u001b[49m\u001b[43mstart\u001b[49m\u001b[38;5;241;43m=\u001b[39;49m\u001b[38;5;124;43m'\u001b[39;49m\u001b[38;5;124;43m'\u001b[39;49m\u001b[43m)\u001b[49m \u001b[38;5;66;03m#not working anymore\u001b[39;00m\n",
      "\u001b[0;31mTypeError\u001b[0m: sum() can't sum strings [use ''.join(seq) instead]"
     ]
    }
   ],
   "source": [
    "sum(words,start='') #not working anymore"
   ]
  },
  {
   "cell_type": "markdown",
   "id": "e100ee17-c808-4679-973b-a763de76e8cc",
   "metadata": {},
   "source": [
    "## split and join: twin deities of creation and destruction\n",
    "- string -> list (filtering, summarizing, other stuff)\n",
    "- list -> string (output)"
   ]
  },
  {
   "cell_type": "code",
   "execution_count": 114,
   "id": "b7eefb8f-9f21-4b58-b543-7da1cf5c2eba",
   "metadata": {},
   "outputs": [],
   "source": [
    "stats_game = \"17,23,34,45,8,21,30,20\""
   ]
  },
  {
   "cell_type": "code",
   "execution_count": 115,
   "id": "3da3dfb5-f6ed-4231-9a07-e07162481205",
   "metadata": {},
   "outputs": [
    {
     "data": {
      "text/plain": [
       "','"
      ]
     },
     "execution_count": 115,
     "metadata": {},
     "output_type": "execute_result"
    }
   ],
   "source": [
    "min(stats_game)"
   ]
  },
  {
   "cell_type": "code",
   "execution_count": 125,
   "id": "613b25fe-6368-48c9-a736-b5820f2f7bfe",
   "metadata": {},
   "outputs": [],
   "source": [
    "stats_list=stats_game.split(\",\")"
   ]
  },
  {
   "cell_type": "code",
   "execution_count": 118,
   "id": "3325e6c9-2573-44ca-846a-ba37550ad654",
   "metadata": {},
   "outputs": [
    {
     "data": {
      "text/plain": [
       "'17'"
      ]
     },
     "execution_count": 118,
     "metadata": {},
     "output_type": "execute_result"
    }
   ],
   "source": [
    "min(stats_game.split(\",\"))  #number in an alphabetical way"
   ]
  },
  {
   "cell_type": "code",
   "execution_count": 119,
   "id": "21ad6391-6f04-40b5-81c7-0bc9149dc4c6",
   "metadata": {},
   "outputs": [
    {
     "data": {
      "text/plain": [
       "['gsomething', 'horse', 'octopus', 'capybara']"
      ]
     },
     "execution_count": 119,
     "metadata": {},
     "output_type": "execute_result"
    }
   ],
   "source": [
    "words"
   ]
  },
  {
   "cell_type": "code",
   "execution_count": 120,
   "id": "41f1fd45-34bb-408a-8d2a-ee50391c4267",
   "metadata": {},
   "outputs": [
    {
     "data": {
      "text/plain": [
       "'gsomething and horse and octopus and capybara'"
      ]
     },
     "execution_count": 120,
     "metadata": {},
     "output_type": "execute_result"
    }
   ],
   "source": [
    "\" and \".join(words)"
   ]
  },
  {
   "cell_type": "code",
   "execution_count": 121,
   "id": "1a6a4060-6005-4ab6-a7ed-2a4e081c5751",
   "metadata": {},
   "outputs": [
    {
     "data": {
      "text/plain": [
       "'gsomething, or horse, or octopus, or capybara'"
      ]
     },
     "execution_count": 121,
     "metadata": {},
     "output_type": "execute_result"
    }
   ],
   "source": [
    "glue = \", or \"\n",
    "glue.join(words)"
   ]
  },
  {
   "cell_type": "code",
   "execution_count": 122,
   "id": "a35885db-a4f4-422d-8a93-acd702c770aa",
   "metadata": {},
   "outputs": [
    {
     "data": {
      "text/plain": [
       "'gsomethinghorseoctopuscapybara'"
      ]
     },
     "execution_count": 122,
     "metadata": {},
     "output_type": "execute_result"
    }
   ],
   "source": [
    "\"\".join(words)"
   ]
  },
  {
   "cell_type": "code",
   "execution_count": 123,
   "id": "d04c2c88-d6d1-49b7-afca-da5deabf0cdc",
   "metadata": {},
   "outputs": [],
   "source": [
    "students=\"ablah,bblah,cblah,dblah\""
   ]
  },
  {
   "cell_type": "code",
   "execution_count": 124,
   "id": "d7daca21-fa22-46cc-96dc-609ca3d8d989",
   "metadata": {},
   "outputs": [
    {
     "data": {
      "text/plain": [
       "['ablah', 'bblah', 'cblah', 'dblah']"
      ]
     },
     "execution_count": 124,
     "metadata": {},
     "output_type": "execute_result"
    }
   ],
   "source": [
    "students.split(\",\")"
   ]
  },
  {
   "cell_type": "markdown",
   "id": "4e9dc64d-67de-41d6-a3bf-fdc68d15236d",
   "metadata": {},
   "source": [
    "## loops"
   ]
  },
  {
   "cell_type": "code",
   "execution_count": 126,
   "id": "6093b3f8-af69-465a-84f4-dbc7910be020",
   "metadata": {},
   "outputs": [
    {
     "data": {
      "text/plain": [
       "['17', '23', '34', '45', '8', '21', '30', '20']"
      ]
     },
     "execution_count": 126,
     "metadata": {},
     "output_type": "execute_result"
    }
   ],
   "source": [
    "stats_list"
   ]
  },
  {
   "cell_type": "code",
   "execution_count": 130,
   "id": "dcdc1432-269a-4668-bfbf-3eae57663126",
   "metadata": {},
   "outputs": [
    {
     "name": "stdout",
     "output_type": "stream",
     "text": [
      "17\n",
      "23\n",
      "34\n",
      "45\n",
      "8\n",
      "21\n",
      "30\n",
      "20\n"
     ]
    }
   ],
   "source": [
    "for variable_name in stats_list: \n",
    "    x=int(variable_name)\n",
    "    y=variable_name\n",
    "    print(x)"
   ]
  },
  {
   "cell_type": "code",
   "execution_count": 137,
   "id": "2bb2aaf5-de53-4532-84bb-aedea795c16a",
   "metadata": {},
   "outputs": [
    {
     "data": {
      "text/plain": [
       "int"
      ]
     },
     "execution_count": 137,
     "metadata": {},
     "output_type": "execute_result"
    }
   ],
   "source": [
    "type(x)"
   ]
  },
  {
   "cell_type": "code",
   "execution_count": 136,
   "id": "d9442a8b-60aa-474b-b6b5-16e3759cef97",
   "metadata": {},
   "outputs": [
    {
     "data": {
      "text/plain": [
       "str"
      ]
     },
     "execution_count": 136,
     "metadata": {},
     "output_type": "execute_result"
    }
   ],
   "source": [
    "type(y)"
   ]
  },
  {
   "cell_type": "code",
   "execution_count": 138,
   "id": "1ea2af23-1bdc-4d4c-b663-84ee06a42ad4",
   "metadata": {},
   "outputs": [
    {
     "name": "stdout",
     "output_type": "stream",
     "text": [
      "gso\n",
      "hor\n",
      "oct\n",
      "cap\n"
     ]
    }
   ],
   "source": [
    "for animal in words:\n",
    "    print(animal[:3])"
   ]
  },
  {
   "cell_type": "markdown",
   "id": "6f0f9563-704f-4809-8797-5984b5f30355",
   "metadata": {},
   "source": [
    "* data -> list -> numbers -> summarizing (?) -> display\n",
    "* list of strings -> process -> list of numbers\n",
    "* input -> filtering/modifying -> output"
   ]
  },
  {
   "cell_type": "code",
   "execution_count": 139,
   "id": "faa5f90b-2725-4d32-adcc-f1aa0ad9627f",
   "metadata": {},
   "outputs": [],
   "source": [
    "stuff = [\"a\",\"b\",\"c\",\"d\"]"
   ]
  },
  {
   "cell_type": "code",
   "execution_count": 140,
   "id": "6ff941e1-497f-4b42-a8f2-1836dad96dd8",
   "metadata": {},
   "outputs": [],
   "source": [
    "stuff.append(\"choco\")"
   ]
  },
  {
   "cell_type": "code",
   "execution_count": 141,
   "id": "73cf5e7c-3d94-4028-913a-2d45230e7447",
   "metadata": {},
   "outputs": [
    {
     "data": {
      "text/plain": [
       "['a', 'b', 'c', 'd', 'choco']"
      ]
     },
     "execution_count": 141,
     "metadata": {},
     "output_type": "execute_result"
    }
   ],
   "source": [
    "stuff"
   ]
  },
  {
   "cell_type": "code",
   "execution_count": 143,
   "id": "8286276a-cf9c-444c-9489-253ba8ef2e29",
   "metadata": {},
   "outputs": [],
   "source": [
    "stats_number=[]\n",
    "for item in stats_list:\n",
    "    x=int(item)\n",
    "    stats_number.append(x)"
   ]
  },
  {
   "cell_type": "code",
   "execution_count": 146,
   "id": "b699d7f6-9caa-4788-879b-f226e3ef3628",
   "metadata": {},
   "outputs": [
    {
     "data": {
      "text/plain": [
       "[17, 23, 34, 45, 8, 21, 30, 20]"
      ]
     },
     "execution_count": 146,
     "metadata": {},
     "output_type": "execute_result"
    }
   ],
   "source": [
    "stats_number"
   ]
  },
  {
   "cell_type": "code",
   "execution_count": 147,
   "id": "64bdf7a0-cb48-425c-9f1c-379477fdf765",
   "metadata": {},
   "outputs": [
    {
     "data": {
      "text/plain": [
       "[8, 17, 20, 21, 23, 30, 34, 45]"
      ]
     },
     "execution_count": 147,
     "metadata": {},
     "output_type": "execute_result"
    }
   ],
   "source": [
    "sorted(stats_number)"
   ]
  },
  {
   "cell_type": "code",
   "execution_count": 170,
   "id": "ab389221-d41f-4002-929c-0433d5b6411c",
   "metadata": {},
   "outputs": [],
   "source": [
    "first_letter=[]\n",
    "for item in words:\n",
    "    first_letter.append(item[0])"
   ]
  },
  {
   "cell_type": "code",
   "execution_count": 149,
   "id": "6e5fdc3c-71a0-43c7-b10b-e3a79a176919",
   "metadata": {},
   "outputs": [
    {
     "data": {
      "text/plain": [
       "['g', 'h', 'o', 'c']"
      ]
     },
     "execution_count": 149,
     "metadata": {},
     "output_type": "execute_result"
    }
   ],
   "source": [
    "first_letter"
   ]
  },
  {
   "cell_type": "code",
   "execution_count": 150,
   "id": "cee63e32-f7ed-4445-a8f7-047045eb1aa8",
   "metadata": {},
   "outputs": [
    {
     "data": {
      "text/plain": [
       "'17,23,34,45,8,21,30,20'"
      ]
     },
     "execution_count": 150,
     "metadata": {},
     "output_type": "execute_result"
    }
   ],
   "source": [
    "stats"
   ]
  },
  {
   "cell_type": "code",
   "execution_count": 158,
   "id": "77dbeaee-ac0a-4cc4-9828-e03155f93e73",
   "metadata": {},
   "outputs": [
    {
     "name": "stdout",
     "output_type": "stream",
     "text": [
      "17\n",
      "23\n",
      "34\n",
      "45\n",
      "21\n",
      "30\n",
      "20\n"
     ]
    }
   ],
   "source": [
    "stats_number=[]\n",
    "for item in stats_list:\n",
    "    x=int(item)\n",
    "    if x > 10 : \n",
    "        stats_number.append(x)\n",
    "        print(x)"
   ]
  },
  {
   "cell_type": "code",
   "execution_count": 154,
   "id": "43c128eb-7c12-4300-8901-7f58dda6b0ab",
   "metadata": {},
   "outputs": [
    {
     "data": {
      "text/plain": [
       "[17, 23, 34, 45, 21, 30, 20]"
      ]
     },
     "execution_count": 154,
     "metadata": {},
     "output_type": "execute_result"
    }
   ],
   "source": [
    "stats_number"
   ]
  },
  {
   "cell_type": "markdown",
   "id": "096998b2-4ff3-4aa4-8a95-e985e22fa614",
   "metadata": {},
   "source": [
    "## list comprehension"
   ]
  },
  {
   "cell_type": "code",
   "execution_count": null,
   "id": "1e8f8cc1-39ce-4eab-b673-43838e949ffa",
   "metadata": {},
   "outputs": [],
   "source": [
    "stats_number=[]\n",
    "for item in stats_list:\n",
    "    x=int(item)\n",
    "    if x > 10 : \n",
    "        stats_number.append(x)"
   ]
  },
  {
   "cell_type": "code",
   "execution_count": 160,
   "id": "f0253097-1f44-4f2d-a1aa-51b31d5ad38e",
   "metadata": {},
   "outputs": [
    {
     "data": {
      "text/plain": [
       "['17', '23', '34', '45', '8', '21', '30', '20']"
      ]
     },
     "execution_count": 160,
     "metadata": {},
     "output_type": "execute_result"
    }
   ],
   "source": [
    "stats_list"
   ]
  },
  {
   "cell_type": "code",
   "execution_count": 165,
   "id": "9cf0876c-7e22-4750-b8d0-3dd394f4cd2a",
   "metadata": {},
   "outputs": [
    {
     "data": {
      "text/plain": [
       "[17, 23, 34, 45, 21, 30, 20]"
      ]
     },
     "execution_count": 165,
     "metadata": {},
     "output_type": "execute_result"
    }
   ],
   "source": [
    "[ int(item) for item in stats_list if int(item)>10] #more common way of writing"
   ]
  },
  {
   "cell_type": "code",
   "execution_count": 164,
   "id": "5ddb5724-610d-4752-af00-fbdf961a211d",
   "metadata": {},
   "outputs": [
    {
     "data": {
      "text/plain": [
       "['GSOMETHING', 'HORSE', 'OCTOPUS', 'CAPYBARA']"
      ]
     },
     "execution_count": 164,
     "metadata": {},
     "output_type": "execute_result"
    }
   ],
   "source": [
    "[animal.upper() for animal in words]"
   ]
  },
  {
   "cell_type": "code",
   "execution_count": 167,
   "id": "a8bec547-ae40-45ea-aa84-4fdfc2a57a06",
   "metadata": {},
   "outputs": [
    {
     "data": {
      "text/plain": [
       "[True, True, True]"
      ]
     },
     "execution_count": 167,
     "metadata": {},
     "output_type": "execute_result"
    }
   ],
   "source": [
    "[True for item in words if len(item)>6] #true can be any value "
   ]
  },
  {
   "cell_type": "code",
   "execution_count": 169,
   "id": "311ff857-4f8c-4f3d-98a6-932c96393a06",
   "metadata": {},
   "outputs": [
    {
     "data": {
      "text/plain": [
       "3"
      ]
     },
     "execution_count": 169,
     "metadata": {},
     "output_type": "execute_result"
    }
   ],
   "source": [
    "len ([True for item in words if len(item)>6])"
   ]
  }
 ],
 "metadata": {
  "kernelspec": {
   "display_name": "Python 3 (ipykernel)",
   "language": "python",
   "name": "python3"
  },
  "language_info": {
   "codemirror_mode": {
    "name": "ipython",
    "version": 3
   },
   "file_extension": ".py",
   "mimetype": "text/x-python",
   "name": "python",
   "nbconvert_exporter": "python",
   "pygments_lexer": "ipython3",
   "version": "3.12.6"
  }
 },
 "nbformat": 4,
 "nbformat_minor": 5
}
