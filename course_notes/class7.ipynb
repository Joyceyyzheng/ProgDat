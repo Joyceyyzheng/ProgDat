{
 "cells": [
  {
   "cell_type": "markdown",
   "id": "c3eb3360-3ebb-4cde-8f70-da9bfc492a73",
   "metadata": {},
   "source": [
    "## some python data structures"
   ]
  },
  {
   "cell_type": "markdown",
   "id": "2c7f71ae-3b7f-430f-a8fb-04a5b07df21e",
   "metadata": {},
   "source": [
    "* list: available everywhere we have py; stores values in order, indexed by number\n",
    "* DataFrame: requires pandas (not available in all py installations); stores values in a table; index by number, column, etc (rows and columns have string indexes as well);spreadsheet"
   ]
  },
  {
   "cell_type": "markdown",
   "id": "87df0331-5db1-4f61-99d5-210ec1382a86",
   "metadata": {},
   "source": [
    "## dictionary\n",
    "\n",
    "javascript: \"object\" (Map);PHP \"associative array\"; Map (C++)\n",
    "\n",
    "series of key -> value pairs (like a 2-column spreadsheet?)\n",
    "\n",
    "uses more memory than list"
   ]
  },
  {
   "cell_type": "code",
   "execution_count": 1,
   "id": "334653e1-1c8f-4ae7-b202-94db89c52006",
   "metadata": {},
   "outputs": [],
   "source": [
    "presidents = {\"key\":\"value\",\"name\":\"homeState\",\"Obama\":\"Hawaii\",\"Biden\":\"Penn\"}\n",
    "#the key needs to be unique. news values replaced the old ones"
   ]
  },
  {
   "cell_type": "code",
   "execution_count": 2,
   "id": "2a632cd2-b1eb-4edb-85a6-7ce83214c16b",
   "metadata": {},
   "outputs": [
    {
     "data": {
      "text/plain": [
       "dict"
      ]
     },
     "execution_count": 2,
     "metadata": {},
     "output_type": "execute_result"
    }
   ],
   "source": [
    "type(presidents)"
   ]
  },
  {
   "cell_type": "code",
   "execution_count": 3,
   "id": "79aabed6-36f6-42c9-8023-9e43bf824344",
   "metadata": {},
   "outputs": [
    {
     "data": {
      "text/plain": [
       "{'key': 'value', 'name': 'homeState', 'Obama': 'Hawaii', 'Biden': 'Penn'}"
      ]
     },
     "execution_count": 3,
     "metadata": {},
     "output_type": "execute_result"
    }
   ],
   "source": [
    "presidents"
   ]
  },
  {
   "cell_type": "code",
   "execution_count": 4,
   "id": "57ca1c8a-4dbe-4ecf-b8c5-91fefff191c2",
   "metadata": {},
   "outputs": [
    {
     "data": {
      "text/plain": [
       "'Hawaii'"
      ]
     },
     "execution_count": 4,
     "metadata": {},
     "output_type": "execute_result"
    }
   ],
   "source": [
    "presidents[\"Obama\"]"
   ]
  },
  {
   "cell_type": "code",
   "execution_count": 5,
   "id": "907fbeee-7217-4eb3-a197-222029245c1d",
   "metadata": {},
   "outputs": [
    {
     "ename": "KeyError",
     "evalue": "'Penn'",
     "output_type": "error",
     "traceback": [
      "\u001b[0;31m---------------------------------------------------------------------------\u001b[0m",
      "\u001b[0;31mKeyError\u001b[0m                                  Traceback (most recent call last)",
      "Cell \u001b[0;32mIn[5], line 1\u001b[0m\n\u001b[0;32m----> 1\u001b[0m \u001b[43mpresidents\u001b[49m\u001b[43m[\u001b[49m\u001b[38;5;124;43m\"\u001b[39;49m\u001b[38;5;124;43mPenn\u001b[39;49m\u001b[38;5;124;43m\"\u001b[39;49m\u001b[43m]\u001b[49m\n",
      "\u001b[0;31mKeyError\u001b[0m: 'Penn'"
     ]
    }
   ],
   "source": [
    "presidents[\"Penn\"]"
   ]
  },
  {
   "cell_type": "code",
   "execution_count": 11,
   "id": "a0340852-ee7d-43c4-b7f1-59ae5bada96b",
   "metadata": {},
   "outputs": [
    {
     "data": {
      "text/plain": [
       "4"
      ]
     },
     "execution_count": 11,
     "metadata": {},
     "output_type": "execute_result"
    }
   ],
   "source": [
    "len(presidents)"
   ]
  },
  {
   "cell_type": "code",
   "execution_count": 9,
   "id": "25599677-67c9-4bf9-8219-92f93498fa8f",
   "metadata": {},
   "outputs": [
    {
     "data": {
      "text/plain": [
       "dict_keys(['key', 'name', 'Obama', 'Biden'])"
      ]
     },
     "execution_count": 9,
     "metadata": {},
     "output_type": "execute_result"
    }
   ],
   "source": [
    "presidents.keys()"
   ]
  },
  {
   "cell_type": "code",
   "execution_count": 10,
   "id": "cb86bc80-1ba5-4bb3-a4cd-a41ccec1d4a4",
   "metadata": {},
   "outputs": [
    {
     "data": {
      "text/plain": [
       "dict_values(['value', 'homeState', 'Hawaii', 'Penn'])"
      ]
     },
     "execution_count": 10,
     "metadata": {},
     "output_type": "execute_result"
    }
   ],
   "source": [
    "presidents.values()"
   ]
  },
  {
   "cell_type": "markdown",
   "id": "87324050-ad96-4ef8-ae6a-6eab773733d8",
   "metadata": {},
   "source": [
    "* hash function??"
   ]
  },
  {
   "cell_type": "code",
   "execution_count": 12,
   "id": "c8d9f398-cc23-4ec8-8057-933503c4c343",
   "metadata": {},
   "outputs": [
    {
     "data": {
      "text/plain": [
       "False"
      ]
     },
     "execution_count": 12,
     "metadata": {},
     "output_type": "execute_result"
    }
   ],
   "source": [
    "\"blahgh\" in [4,7,8,9,5,17]"
   ]
  },
  {
   "cell_type": "code",
   "execution_count": 13,
   "id": "6e20f9d7-4ece-4d9f-a57c-6d0455c07917",
   "metadata": {},
   "outputs": [
    {
     "data": {
      "text/plain": [
       "{'key': 'value', 'name': 'homeState', 'Obama': 'Hawaii', 'Biden': 'Penn'}"
      ]
     },
     "execution_count": 13,
     "metadata": {},
     "output_type": "execute_result"
    }
   ],
   "source": [
    "presidents"
   ]
  },
  {
   "cell_type": "code",
   "execution_count": 14,
   "id": "d0ec559e-146b-43a3-a70a-3427d4d9b575",
   "metadata": {},
   "outputs": [
    {
     "data": {
      "text/plain": [
       "False"
      ]
     },
     "execution_count": 14,
     "metadata": {},
     "output_type": "execute_result"
    }
   ],
   "source": [
    "\"Penn\" in presidents #checks if key exists, instead of values"
   ]
  },
  {
   "cell_type": "code",
   "execution_count": 15,
   "id": "0fb3b412-7a84-4371-af84-8b2bc841c88d",
   "metadata": {},
   "outputs": [
    {
     "data": {
      "text/plain": [
       "True"
      ]
     },
     "execution_count": 15,
     "metadata": {},
     "output_type": "execute_result"
    }
   ],
   "source": [
    "\"Penn\" in presidents.values()"
   ]
  },
  {
   "cell_type": "code",
   "execution_count": 16,
   "id": "646e4638-1729-4322-be38-782d4c0d4df9",
   "metadata": {},
   "outputs": [
    {
     "data": {
      "text/plain": [
       "dict_items([('key', 'value'), ('name', 'homeState'), ('Obama', 'Hawaii'), ('Biden', 'Penn')])"
      ]
     },
     "execution_count": 16,
     "metadata": {},
     "output_type": "execute_result"
    }
   ],
   "source": [
    "presidents.items()"
   ]
  },
  {
   "cell_type": "code",
   "execution_count": 18,
   "id": "0928d80a-edef-40b7-9ce2-9074ed2223ec",
   "metadata": {},
   "outputs": [
    {
     "data": {
      "text/plain": [
       "['president key from value',\n",
       " 'president name from homeState',\n",
       " 'president Obama from Hawaii',\n",
       " 'president Biden from Penn']"
      ]
     },
     "execution_count": 18,
     "metadata": {},
     "output_type": "execute_result"
    }
   ],
   "source": [
    "[\"president \"+k+\" from \"+v for k, v in presidents.items()]"
   ]
  },
  {
   "cell_type": "markdown",
   "id": "1da8b7da-c61c-41c6-9af0-5dd9bb5348a4",
   "metadata": {},
   "source": [
    "## representing tabular data in python with dictionaries\n",
    "\n",
    "list of dictionaries. list of rows in a spreadsheet, dictionary: column + value for that row \n",
    "\n",
    "name        state    population\n",
    "New York    NY       90000000\n",
    "Los Angeles CA       40000000\n",
    "Chicago     IL       30000000\n",
    "\n",
    "[\n",
    "    {\"name\":\"New York\",\"state\":\"NY\",\"population\":\"90000000\"},\n",
    "    {\"name\":\"Los Angeles\",\"state\":\"CA\",\"population\":\"40000000\"},\n",
    "    {\"name\":\"Chicago\",\"state\":\"IL\",\"population\":\"30000000\"},\n",
    "\n",
    "]"
   ]
  },
  {
   "cell_type": "code",
   "execution_count": 33,
   "id": "bc87948f-0ac8-4b6b-871a-7da46f34d01b",
   "metadata": {},
   "outputs": [],
   "source": [
    "cities=[\n",
    "    {\"name\":\"New York\",\"state\":\"NY\",\"population\":90000000},\n",
    "    {\"name\":\"Los Angeles\",\"state\":\"CA\",\"population\":40000000},\n",
    "    {\"name\":\"Chicago\",\"state\":\"IL\",\"population\":30000000},\n",
    "]"
   ]
  },
  {
   "cell_type": "code",
   "execution_count": 20,
   "id": "e7cefdd2-ba9e-4490-b135-2fad4c902f77",
   "metadata": {},
   "outputs": [
    {
     "data": {
      "text/plain": [
       "list"
      ]
     },
     "execution_count": 20,
     "metadata": {},
     "output_type": "execute_result"
    }
   ],
   "source": [
    "type(cities)"
   ]
  },
  {
   "cell_type": "code",
   "execution_count": 21,
   "id": "145e9a10-7508-482b-bea5-e83f01224d0b",
   "metadata": {},
   "outputs": [
    {
     "data": {
      "text/plain": [
       "dict"
      ]
     },
     "execution_count": 21,
     "metadata": {},
     "output_type": "execute_result"
    }
   ],
   "source": [
    "type(cities[0])"
   ]
  },
  {
   "cell_type": "code",
   "execution_count": 22,
   "id": "f7587810-a617-4905-97c4-c0d19f5d4e60",
   "metadata": {},
   "outputs": [],
   "source": [
    "dummy=cities[0]"
   ]
  },
  {
   "cell_type": "code",
   "execution_count": 23,
   "id": "8d5fca99-7d5d-4402-88c0-bc3dac6019af",
   "metadata": {},
   "outputs": [
    {
     "data": {
      "text/plain": [
       "'90000000'"
      ]
     },
     "execution_count": 23,
     "metadata": {},
     "output_type": "execute_result"
    }
   ],
   "source": [
    "dummy['population']"
   ]
  },
  {
   "cell_type": "code",
   "execution_count": 24,
   "id": "cac266a5-cbc6-4eda-b5d9-1b32a5f46f31",
   "metadata": {},
   "outputs": [
    {
     "data": {
      "text/plain": [
       "'90000000'"
      ]
     },
     "execution_count": 24,
     "metadata": {},
     "output_type": "execute_result"
    }
   ],
   "source": [
    "cities[0][\"population\"]"
   ]
  },
  {
   "cell_type": "code",
   "execution_count": 31,
   "id": "0db0b046-d04e-408c-8b9b-eb92e42c51ad",
   "metadata": {},
   "outputs": [
    {
     "data": {
      "text/plain": [
       "['90000000', '40000000', '30000000']"
      ]
     },
     "execution_count": 31,
     "metadata": {},
     "output_type": "execute_result"
    }
   ],
   "source": [
    "[item[\"population\"] for item in cities]"
   ]
  },
  {
   "cell_type": "code",
   "execution_count": 34,
   "id": "547ecfdf-826c-4dd1-a2a2-4240c0084c9e",
   "metadata": {},
   "outputs": [
    {
     "data": {
      "text/plain": [
       "160000000"
      ]
     },
     "execution_count": 34,
     "metadata": {},
     "output_type": "execute_result"
    }
   ],
   "source": [
    "sum([item[\"population\"] for item in cities])"
   ]
  },
  {
   "cell_type": "code",
   "execution_count": 35,
   "id": "df695201-6437-4cfc-bbc2-847a01cf5cd7",
   "metadata": {},
   "outputs": [
    {
     "data": {
      "text/html": [
       "<div>\n",
       "<style scoped>\n",
       "    .dataframe tbody tr th:only-of-type {\n",
       "        vertical-align: middle;\n",
       "    }\n",
       "\n",
       "    .dataframe tbody tr th {\n",
       "        vertical-align: top;\n",
       "    }\n",
       "\n",
       "    .dataframe thead th {\n",
       "        text-align: right;\n",
       "    }\n",
       "</style>\n",
       "<table border=\"1\" class=\"dataframe\">\n",
       "  <thead>\n",
       "    <tr style=\"text-align: right;\">\n",
       "      <th></th>\n",
       "      <th>name</th>\n",
       "      <th>state</th>\n",
       "      <th>population</th>\n",
       "    </tr>\n",
       "  </thead>\n",
       "  <tbody>\n",
       "    <tr>\n",
       "      <th>0</th>\n",
       "      <td>New York</td>\n",
       "      <td>NY</td>\n",
       "      <td>90000000</td>\n",
       "    </tr>\n",
       "    <tr>\n",
       "      <th>1</th>\n",
       "      <td>Los Angeles</td>\n",
       "      <td>CA</td>\n",
       "      <td>40000000</td>\n",
       "    </tr>\n",
       "    <tr>\n",
       "      <th>2</th>\n",
       "      <td>Chicago</td>\n",
       "      <td>IL</td>\n",
       "      <td>30000000</td>\n",
       "    </tr>\n",
       "  </tbody>\n",
       "</table>\n",
       "</div>"
      ],
      "text/plain": [
       "          name state  population\n",
       "0     New York    NY    90000000\n",
       "1  Los Angeles    CA    40000000\n",
       "2      Chicago    IL    30000000"
      ]
     },
     "execution_count": 35,
     "metadata": {},
     "output_type": "execute_result"
    }
   ],
   "source": [
    "import pandas as pd\n",
    "pd.DataFrame(cities)"
   ]
  },
  {
   "cell_type": "markdown",
   "id": "b8c5cfbc-1ccc-4dc2-a0b3-7bb7d9d00c22",
   "metadata": {},
   "source": [
    "## set\n",
    "#### not subscriptable -> cant get value from index"
   ]
  },
  {
   "cell_type": "code",
   "execution_count": 36,
   "id": "15820ebc-fbf7-4fb1-8bf4-f6c313dc2806",
   "metadata": {},
   "outputs": [],
   "source": [
    "fruits=set()"
   ]
  },
  {
   "cell_type": "code",
   "execution_count": 37,
   "id": "5bc160e9-90ee-4a51-a7df-900568f5f7a1",
   "metadata": {},
   "outputs": [],
   "source": [
    "fruits.add(\"apple\")\n",
    "fruits.add(\"banana\")\n",
    "fruits.add(\"orange\")"
   ]
  },
  {
   "cell_type": "code",
   "execution_count": 39,
   "id": "b70a23d6-9e06-4a43-baa2-4657e75bb9da",
   "metadata": {},
   "outputs": [
    {
     "data": {
      "text/plain": [
       "{'apple', 'banana', 'orange'}"
      ]
     },
     "execution_count": 39,
     "metadata": {},
     "output_type": "execute_result"
    }
   ],
   "source": [
    "fruits  #set has curly brackets, list has square"
   ]
  },
  {
   "cell_type": "code",
   "execution_count": 40,
   "id": "1d8c4336-4a43-4305-a4e3-f02ae1449466",
   "metadata": {},
   "outputs": [
    {
     "data": {
      "text/plain": [
       "True"
      ]
     },
     "execution_count": 40,
     "metadata": {},
     "output_type": "execute_result"
    }
   ],
   "source": [
    "\"apple\" in fruits"
   ]
  },
  {
   "cell_type": "code",
   "execution_count": 41,
   "id": "5f787572-30e9-4b4b-834d-7b8e0b928d45",
   "metadata": {},
   "outputs": [
    {
     "data": {
      "text/plain": [
       "False"
      ]
     },
     "execution_count": 41,
     "metadata": {},
     "output_type": "execute_result"
    }
   ],
   "source": [
    "\"noodles\" in fruits"
   ]
  },
  {
   "cell_type": "code",
   "execution_count": 44,
   "id": "ceaa3883-104d-4414-a742-3ffe1e0efd10",
   "metadata": {},
   "outputs": [],
   "source": [
    "fruit_salad=['apple', 'banana', 'orange','kiwi','rambutan',\"apple\"]"
   ]
  },
  {
   "cell_type": "code",
   "execution_count": 46,
   "id": "73d2e965-8137-4764-8ab7-2225a4e33715",
   "metadata": {},
   "outputs": [
    {
     "data": {
      "text/plain": [
       "['orange', 'rambutan', 'kiwi', 'banana', 'apple']"
      ]
     },
     "execution_count": 46,
     "metadata": {},
     "output_type": "execute_result"
    }
   ],
   "source": [
    "list(set(fruit_salad)) #remove duplicate stuff cuz set cant have same items"
   ]
  },
  {
   "cell_type": "markdown",
   "id": "f826cf3b-d0fb-45d0-a2f0-327251de0d0b",
   "metadata": {},
   "source": [
    "## tuples\n",
    "\n",
    "single,double,triple,quadruple\n",
    "\n",
    "almost exactly the same as list"
   ]
  },
  {
   "cell_type": "code",
   "execution_count": 47,
   "id": "0555d700-e485-4410-a1c5-1bd6bba982a9",
   "metadata": {},
   "outputs": [],
   "source": [
    "t = (1,2,3,4,5)"
   ]
  },
  {
   "cell_type": "code",
   "execution_count": 48,
   "id": "533f91ee-b685-4e2f-a883-9f16c52cdea9",
   "metadata": {},
   "outputs": [
    {
     "data": {
      "text/plain": [
       "tuple"
      ]
     },
     "execution_count": 48,
     "metadata": {},
     "output_type": "execute_result"
    }
   ],
   "source": [
    "type(t)"
   ]
  },
  {
   "cell_type": "code",
   "execution_count": 49,
   "id": "7a2db8e8-436b-437a-b64c-c45ad301d505",
   "metadata": {},
   "outputs": [
    {
     "data": {
      "text/plain": [
       "5"
      ]
     },
     "execution_count": 49,
     "metadata": {},
     "output_type": "execute_result"
    }
   ],
   "source": [
    "t[4]"
   ]
  },
  {
   "cell_type": "code",
   "execution_count": 50,
   "id": "bd912047-a60f-4abf-b705-b548c8afc012",
   "metadata": {},
   "outputs": [
    {
     "data": {
      "text/plain": [
       "False"
      ]
     },
     "execution_count": 50,
     "metadata": {},
     "output_type": "execute_result"
    }
   ],
   "source": [
    "\"cheese\" in t"
   ]
  },
  {
   "cell_type": "code",
   "execution_count": 52,
   "id": "8404026b-1df6-46af-ac10-826885d11f7b",
   "metadata": {},
   "outputs": [
    {
     "ename": "AttributeError",
     "evalue": "'tuple' object has no attribute 'append'",
     "output_type": "error",
     "traceback": [
      "\u001b[0;31m---------------------------------------------------------------------------\u001b[0m",
      "\u001b[0;31mAttributeError\u001b[0m                            Traceback (most recent call last)",
      "Cell \u001b[0;32mIn[52], line 1\u001b[0m\n\u001b[0;32m----> 1\u001b[0m \u001b[43mt\u001b[49m\u001b[38;5;241;43m.\u001b[39;49m\u001b[43mappend\u001b[49m(\u001b[38;5;241m17\u001b[39m) \u001b[38;5;66;03m#can't change them after created\u001b[39;00m\n",
      "\u001b[0;31mAttributeError\u001b[0m: 'tuple' object has no attribute 'append'"
     ]
    }
   ],
   "source": [
    "t.append(17) #can't change them after created"
   ]
  },
  {
   "cell_type": "code",
   "execution_count": null,
   "id": "e0253731-c143-420a-aec3-9124c3304658",
   "metadata": {},
   "outputs": [],
   "source": []
  }
 ],
 "metadata": {
  "kernelspec": {
   "display_name": "Python 3 (ipykernel)",
   "language": "python",
   "name": "python3"
  },
  "language_info": {
   "codemirror_mode": {
    "name": "ipython",
    "version": 3
   },
   "file_extension": ".py",
   "mimetype": "text/x-python",
   "name": "python",
   "nbconvert_exporter": "python",
   "pygments_lexer": "ipython3",
   "version": "3.12.6"
  }
 },
 "nbformat": 4,
 "nbformat_minor": 5
}
