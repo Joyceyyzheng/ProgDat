{
 "cells": [
  {
   "cell_type": "markdown",
   "id": "6081b9dd-3e34-403e-be85-509ab5ac1e26",
   "metadata": {},
   "source": [
    "# week 2\n",
    "- markdown lah\n",
    "- markdown 2"
   ]
  }
 ],
 "metadata": {
  "kernelspec": {
   "display_name": "Python 3 (ipykernel)",
   "language": "python",
   "name": "python3"
  },
  "language_info": {
   "codemirror_mode": {
    "name": "ipython",
    "version": 3
   },
   "file_extension": ".py",
   "mimetype": "text/x-python",
   "name": "python",
   "nbconvert_exporter": "python",
   "pygments_lexer": "ipython3",
   "version": "3.12.6"
  }
 },
 "nbformat": 4,
 "nbformat_minor": 5
}
